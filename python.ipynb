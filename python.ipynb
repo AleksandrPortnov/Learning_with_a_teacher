{
 "cells": [
  {
   "cell_type": "markdown",
   "metadata": {
    "toc": true
   },
   "source": [
    "<h1>Содержание<span class=\"tocSkip\"></span></h1>\n",
    "<div class=\"toc\"><ul class=\"toc-item\"><li><span><a href=\"#Подготовка-данных\" data-toc-modified-id=\"Подготовка-данных-1\"><span class=\"toc-item-num\">1&nbsp;&nbsp;</span>Подготовка данных</a></span></li><li><span><a href=\"#Исследование-задачи\" data-toc-modified-id=\"Исследование-задачи-2\"><span class=\"toc-item-num\">2&nbsp;&nbsp;</span>Исследование задачи</a></span><ul class=\"toc-item\"><li><span><a href=\"#Проверим-качество-моделей-без-учета-дисбаланса.\" data-toc-modified-id=\"Проверим-качество-моделей-без-учета-дисбаланса.-2.1\"><span class=\"toc-item-num\">2.1&nbsp;&nbsp;</span>Проверим качество моделей без учета дисбаланса.</a></span></li></ul></li><li><span><a href=\"#Борьба-с-дисбалансом\" data-toc-modified-id=\"Борьба-с-дисбалансом-3\"><span class=\"toc-item-num\">3&nbsp;&nbsp;</span>Борьба с дисбалансом</a></span><ul class=\"toc-item\"><li><span><a href=\"#Увеличение-выборки\" data-toc-modified-id=\"Увеличение-выборки-3.1\"><span class=\"toc-item-num\">3.1&nbsp;&nbsp;</span>Увеличение выборки</a></span></li><li><span><a href=\"#Уменьшение-выборки\" data-toc-modified-id=\"Уменьшение-выборки-3.2\"><span class=\"toc-item-num\">3.2&nbsp;&nbsp;</span>Уменьшение выборки</a></span></li></ul></li><li><span><a href=\"#Тестирование-модели\" data-toc-modified-id=\"Тестирование-модели-4\"><span class=\"toc-item-num\">4&nbsp;&nbsp;</span>Тестирование модели</a></span></li><li><span><a href=\"#Общий-вывод\" data-toc-modified-id=\"Общий-вывод-5\"><span class=\"toc-item-num\">5&nbsp;&nbsp;</span>Общий вывод</a></span></li><li><span><a href=\"#Чек-лист-готовности-проекта\" data-toc-modified-id=\"Чек-лист-готовности-проекта-6\"><span class=\"toc-item-num\">6&nbsp;&nbsp;</span>Чек-лист готовности проекта</a></span></li></ul></div>"
   ]
  },
  {
   "cell_type": "markdown",
   "metadata": {},
   "source": [
    "# Отток клиентов"
   ]
  },
  {
   "cell_type": "markdown",
   "metadata": {},
   "source": [
    "Из «Бета-Банка» стали уходить клиенты. Каждый месяц. Немного, но заметно. Банковские маркетологи посчитали: сохранять текущих клиентов дешевле, чем привлекать новых.\n",
    "\n",
    "Нужно спрогнозировать, уйдёт клиент из банка в ближайшее время или нет. Вам предоставлены исторические данные о поведении клиентов и расторжении договоров с банком. \n",
    "\n",
    "Постройте модель с предельно большим значением *F1*-меры. Чтобы сдать проект успешно, нужно довести метрику до 0.59. Проверьте *F1*-меру на тестовой выборке самостоятельно.\n",
    "\n",
    "Дополнительно измеряйте *AUC-ROC*, сравнивайте её значение с *F1*-мерой.\n",
    "\n",
    "Источник данных: [https://www.kaggle.com/barelydedicated/bank-customer-churn-modeling](https://www.kaggle.com/barelydedicated/bank-customer-churn-modeling)"
   ]
  },
  {
   "cell_type": "markdown",
   "metadata": {},
   "source": [
    "## Подготовка данных"
   ]
  },
  {
   "cell_type": "code",
   "execution_count": 1,
   "metadata": {},
   "outputs": [],
   "source": [
    "import pandas as pd\n",
    "import seaborn as sns\n",
    "import numpy as np\n",
    "from sklearn.preprocessing import StandardScaler \n",
    "from sklearn.model_selection import train_test_split\n",
    "from sklearn.metrics import (confusion_matrix,\n",
    "                             f1_score,\n",
    "                             precision_score,\n",
    "                             recall_score, \n",
    "                             roc_curve,\n",
    "                             roc_auc_score,\n",
    "                             accuracy_score)\n",
    "from sklearn.tree import DecisionTreeClassifier\n",
    "from sklearn.ensemble import RandomForestClassifier\n",
    "from sklearn.linear_model import LogisticRegression\n",
    "import matplotlib.pyplot as plt\n",
    "from sklearn.utils import shuffle\n",
    "from sklearn.dummy import DummyClassifier"
   ]
  },
  {
   "cell_type": "code",
   "execution_count": 2,
   "metadata": {},
   "outputs": [],
   "source": [
    "def metrics(target_valid, predicted_valid):\n",
    "    '''\n",
    "    Функция для расчета метрик Полнота, Точность, F1-мера и построения матрицы ошибок\n",
    "    '''\n",
    "    print('Матрица ошибок:\\n', confusion_matrix(target_valid, predicted_valid))\n",
    "    print(\"Полнота:\", recall_score(target_valid, predicted_valid))\n",
    "    print(\"Точность:\", precision_score(target_valid, predicted_valid))\n",
    "    print(\"F1-мера:\", f1_score(target_valid, predicted_valid))\n",
    "    \n",
    "    \n",
    "def auc_roc(features_valid, target_valid, model, model_name):\n",
    "    '''\n",
    "    Функция для расчета AUC-ROC и построения ROC-кривой на графике\n",
    "    '''\n",
    "    probabilities_valid = model.predict_proba(features_valid)\n",
    "    probabilities_one_valid = probabilities_valid[:, 1]\n",
    "    fpr, tpr, thresholds = roc_curve(target_valid, probabilities_one_valid)\n",
    "    plt.figure()\n",
    "    plt.plot(fpr, tpr)\n",
    "    plt.plot([0, 1], [0, 1], linestyle='--')\n",
    "    plt.xlim(0, 1)\n",
    "    plt.ylim(0, 1)\n",
    "    plt.xlabel('False Positive Rate')\n",
    "    plt.ylabel('True Positive Rate')\n",
    "    plt.title(f'{model_name}\\nROC-кривая')\n",
    "    plt.show()\n",
    "    auc_roc = roc_auc_score(target_valid, probabilities_one_valid)\n",
    "    print(auc_roc)\n",
    "    \n",
    "    \n",
    "def upsample(features, target, repeat):\n",
    "    '''\n",
    "    Функция для увеличения выборки, чтобы редкий класс стал не таким редким.\n",
    "    '''\n",
    "    features_zeros = features[target == 0]\n",
    "    features_ones = features[target == 1]\n",
    "    target_zeros = target[target == 0]\n",
    "    target_ones = target[target == 1]\n",
    "\n",
    "    features_upsampled = pd.concat([features_zeros] + [features_ones] * repeat)\n",
    "    target_upsampled = pd.concat([target_zeros] + [target_ones] * repeat)\n",
    "    \n",
    "    features_upsampled, target_upsampled = shuffle(\n",
    "        features_upsampled, target_upsampled, random_state=RANDOM_STATE)\n",
    "    \n",
    "    return features_upsampled, target_upsampled\n",
    "\n",
    "def downsample(features, target, fraction):\n",
    "    '''\n",
    "    Функция для уменьшения выборки, чтобы частый класс стал не таким частым.\n",
    "    '''\n",
    "    features_zeros = features[target == 0]\n",
    "    features_ones = features[target == 1]\n",
    "    target_zeros = target[target == 0]\n",
    "    target_ones = target[target == 1]\n",
    "\n",
    "    features_downsampled = pd.concat([features_zeros.sample(frac=fraction, random_state=12345)] + [features_ones])\n",
    "    target_downsampled = pd.concat([target_zeros.sample(frac=fraction, random_state=12345)] + [target_ones])\n",
    "    \n",
    "    features_downsampled, target_downsampled = shuffle(features_downsampled, target_downsampled, random_state=12345)\n",
    "    \n",
    "    return features_downsampled, target_downsampled\n"
   ]
  },
  {
   "cell_type": "markdown",
   "metadata": {},
   "source": [
    "Загрузим данные из файла `/datasets/Churn.csv` в переменную `data`"
   ]
  },
  {
   "cell_type": "code",
   "execution_count": 3,
   "metadata": {},
   "outputs": [],
   "source": [
    "try:\n",
    "    data = pd.read_csv('Churn.csv')\n",
    "except:\n",
    "    data = pd.read_csv('/datasets/Churn.csv')"
   ]
  },
  {
   "cell_type": "markdown",
   "metadata": {},
   "source": [
    "Изучим данные"
   ]
  },
  {
   "cell_type": "code",
   "execution_count": 4,
   "metadata": {},
   "outputs": [
    {
     "data": {
      "text/html": [
       "<div>\n",
       "<style scoped>\n",
       "    .dataframe tbody tr th:only-of-type {\n",
       "        vertical-align: middle;\n",
       "    }\n",
       "\n",
       "    .dataframe tbody tr th {\n",
       "        vertical-align: top;\n",
       "    }\n",
       "\n",
       "    .dataframe thead th {\n",
       "        text-align: right;\n",
       "    }\n",
       "</style>\n",
       "<table border=\"1\" class=\"dataframe\">\n",
       "  <thead>\n",
       "    <tr style=\"text-align: right;\">\n",
       "      <th></th>\n",
       "      <th>RowNumber</th>\n",
       "      <th>CustomerId</th>\n",
       "      <th>Surname</th>\n",
       "      <th>CreditScore</th>\n",
       "      <th>Geography</th>\n",
       "      <th>Gender</th>\n",
       "      <th>Age</th>\n",
       "      <th>Tenure</th>\n",
       "      <th>Balance</th>\n",
       "      <th>NumOfProducts</th>\n",
       "      <th>HasCrCard</th>\n",
       "      <th>IsActiveMember</th>\n",
       "      <th>EstimatedSalary</th>\n",
       "      <th>Exited</th>\n",
       "    </tr>\n",
       "  </thead>\n",
       "  <tbody>\n",
       "    <tr>\n",
       "      <th>0</th>\n",
       "      <td>1</td>\n",
       "      <td>15634602</td>\n",
       "      <td>Hargrave</td>\n",
       "      <td>619</td>\n",
       "      <td>France</td>\n",
       "      <td>Female</td>\n",
       "      <td>42</td>\n",
       "      <td>2.0</td>\n",
       "      <td>0.00</td>\n",
       "      <td>1</td>\n",
       "      <td>1</td>\n",
       "      <td>1</td>\n",
       "      <td>101348.88</td>\n",
       "      <td>1</td>\n",
       "    </tr>\n",
       "    <tr>\n",
       "      <th>1</th>\n",
       "      <td>2</td>\n",
       "      <td>15647311</td>\n",
       "      <td>Hill</td>\n",
       "      <td>608</td>\n",
       "      <td>Spain</td>\n",
       "      <td>Female</td>\n",
       "      <td>41</td>\n",
       "      <td>1.0</td>\n",
       "      <td>83807.86</td>\n",
       "      <td>1</td>\n",
       "      <td>0</td>\n",
       "      <td>1</td>\n",
       "      <td>112542.58</td>\n",
       "      <td>0</td>\n",
       "    </tr>\n",
       "    <tr>\n",
       "      <th>2</th>\n",
       "      <td>3</td>\n",
       "      <td>15619304</td>\n",
       "      <td>Onio</td>\n",
       "      <td>502</td>\n",
       "      <td>France</td>\n",
       "      <td>Female</td>\n",
       "      <td>42</td>\n",
       "      <td>8.0</td>\n",
       "      <td>159660.80</td>\n",
       "      <td>3</td>\n",
       "      <td>1</td>\n",
       "      <td>0</td>\n",
       "      <td>113931.57</td>\n",
       "      <td>1</td>\n",
       "    </tr>\n",
       "    <tr>\n",
       "      <th>3</th>\n",
       "      <td>4</td>\n",
       "      <td>15701354</td>\n",
       "      <td>Boni</td>\n",
       "      <td>699</td>\n",
       "      <td>France</td>\n",
       "      <td>Female</td>\n",
       "      <td>39</td>\n",
       "      <td>1.0</td>\n",
       "      <td>0.00</td>\n",
       "      <td>2</td>\n",
       "      <td>0</td>\n",
       "      <td>0</td>\n",
       "      <td>93826.63</td>\n",
       "      <td>0</td>\n",
       "    </tr>\n",
       "    <tr>\n",
       "      <th>4</th>\n",
       "      <td>5</td>\n",
       "      <td>15737888</td>\n",
       "      <td>Mitchell</td>\n",
       "      <td>850</td>\n",
       "      <td>Spain</td>\n",
       "      <td>Female</td>\n",
       "      <td>43</td>\n",
       "      <td>2.0</td>\n",
       "      <td>125510.82</td>\n",
       "      <td>1</td>\n",
       "      <td>1</td>\n",
       "      <td>1</td>\n",
       "      <td>79084.10</td>\n",
       "      <td>0</td>\n",
       "    </tr>\n",
       "  </tbody>\n",
       "</table>\n",
       "</div>"
      ],
      "text/plain": [
       "   RowNumber  CustomerId   Surname  CreditScore Geography  Gender  Age  \\\n",
       "0          1    15634602  Hargrave          619    France  Female   42   \n",
       "1          2    15647311      Hill          608     Spain  Female   41   \n",
       "2          3    15619304      Onio          502    France  Female   42   \n",
       "3          4    15701354      Boni          699    France  Female   39   \n",
       "4          5    15737888  Mitchell          850     Spain  Female   43   \n",
       "\n",
       "   Tenure    Balance  NumOfProducts  HasCrCard  IsActiveMember  \\\n",
       "0     2.0       0.00              1          1               1   \n",
       "1     1.0   83807.86              1          0               1   \n",
       "2     8.0  159660.80              3          1               0   \n",
       "3     1.0       0.00              2          0               0   \n",
       "4     2.0  125510.82              1          1               1   \n",
       "\n",
       "   EstimatedSalary  Exited  \n",
       "0        101348.88       1  \n",
       "1        112542.58       0  \n",
       "2        113931.57       1  \n",
       "3         93826.63       0  \n",
       "4         79084.10       0  "
      ]
     },
     "metadata": {},
     "output_type": "display_data"
    },
    {
     "name": "stdout",
     "output_type": "stream",
     "text": [
      "<class 'pandas.core.frame.DataFrame'>\n",
      "RangeIndex: 10000 entries, 0 to 9999\n",
      "Data columns (total 14 columns):\n",
      " #   Column           Non-Null Count  Dtype  \n",
      "---  ------           --------------  -----  \n",
      " 0   RowNumber        10000 non-null  int64  \n",
      " 1   CustomerId       10000 non-null  int64  \n",
      " 2   Surname          10000 non-null  object \n",
      " 3   CreditScore      10000 non-null  int64  \n",
      " 4   Geography        10000 non-null  object \n",
      " 5   Gender           10000 non-null  object \n",
      " 6   Age              10000 non-null  int64  \n",
      " 7   Tenure           9091 non-null   float64\n",
      " 8   Balance          10000 non-null  float64\n",
      " 9   NumOfProducts    10000 non-null  int64  \n",
      " 10  HasCrCard        10000 non-null  int64  \n",
      " 11  IsActiveMember   10000 non-null  int64  \n",
      " 12  EstimatedSalary  10000 non-null  float64\n",
      " 13  Exited           10000 non-null  int64  \n",
      "dtypes: float64(3), int64(8), object(3)\n",
      "memory usage: 1.1+ MB\n"
     ]
    },
    {
     "data": {
      "text/plain": [
       "None"
      ]
     },
     "metadata": {},
     "output_type": "display_data"
    }
   ],
   "source": [
    "display(data.head())\n",
    "display(data.info())"
   ]
  },
  {
   "cell_type": "markdown",
   "metadata": {},
   "source": [
    "У нас есть данные, состоящие из 14 столбцов и 10000 строк.  \n",
    "- `RowNumber` — индекс строки в данных\n",
    "- `CustomerId` — уникальный идентификатор клиента\n",
    "- `Surname` — фамилия\n",
    "- `CreditScore` — кредитный рейтинг\n",
    "- `Geography` — страна проживания\n",
    "- `Gender` — пол\n",
    "- `Age` — возраст\n",
    "- `Tenure` — сколько лет человек является клиентом банка\n",
    "- `Balance` — баланс на счёте\n",
    "- `NumOfProducts` — количество продуктов банка, используемых клиентом\n",
    "- `HasCrCard` — наличие кредитной карты\n",
    "- `IsActiveMember` — активность клиента\n",
    "- `EstimatedSalary` — предполагаемая зарплата\n",
    "- `Exited` — факт ухода клиента  "
   ]
  },
  {
   "cell_type": "code",
   "execution_count": 5,
   "metadata": {},
   "outputs": [
    {
     "data": {
      "text/plain": [
       "Text(0.5, 1.0, 'Тепловая карта пропущенных значений')"
      ]
     },
     "execution_count": 5,
     "metadata": {},
     "output_type": "execute_result"
    },
    {
     "data": {
      "image/png": "[encoded data removed]",
      "text/plain": [
       "<Figure size 640x480 with 2 Axes>"
      ]
     },
     "metadata": {},
     "output_type": "display_data"
    }
   ],
   "source": [
    "# построим тепловую карту пропущенных значений\n",
    "sns.heatmap(data.isnull(), cmap=sns.color_palette(['#6572a3', '#a3aeec'] ))\n",
    "plt.xlabel('Признак (столбец)')\n",
    "plt.ylabel('Строка')\n",
    "plt.title('Тепловая карта пропущенных значений')"
   ]
  },
  {
   "cell_type": "code",
   "execution_count": 6,
   "metadata": {},
   "outputs": [
    {
     "name": "stdout",
     "output_type": "stream",
     "text": [
      "RowNumber - 0%\n",
      "CustomerId - 0%\n",
      "Surname - 0%\n",
      "CreditScore - 0%\n",
      "Geography - 0%\n",
      "Gender - 0%\n",
      "Age - 0%\n",
      "Tenure - 9%\n",
      "Balance - 0%\n",
      "NumOfProducts - 0%\n",
      "HasCrCard - 0%\n",
      "IsActiveMember - 0%\n",
      "EstimatedSalary - 0%\n",
      "Exited - 0%\n"
     ]
    },
    {
     "data": {
      "text/plain": [
       "count    9091.000000\n",
       "mean        4.997690\n",
       "std         2.894723\n",
       "min         0.000000\n",
       "25%         2.000000\n",
       "50%         5.000000\n",
       "75%         7.000000\n",
       "max        10.000000\n",
       "Name: Tenure, dtype: float64"
      ]
     },
     "execution_count": 6,
     "metadata": {},
     "output_type": "execute_result"
    }
   ],
   "source": [
    "# составим процентный список пропущенных данных\n",
    "for col in data.columns:\n",
    "    pct_missing = np.mean(data[col].isnull())\n",
    "    print(f'{col} - {round(pct_missing*100)}%')\n",
    "    \n",
    "data['Tenure'].describe()"
   ]
  },
  {
   "cell_type": "markdown",
   "metadata": {},
   "source": [
    "В столбце `Tenure` отсутствует 9% значений. Удалять пропущенные значения не будем. Среднее и медиана у этого признака почти одинаковые. Заполним пропуски медианным значением."
   ]
  },
  {
   "cell_type": "code",
   "execution_count": 7,
   "metadata": {},
   "outputs": [
    {
     "data": {
      "text/plain": [
       "5.0"
      ]
     },
     "metadata": {},
     "output_type": "display_data"
    }
   ],
   "source": [
    "# заменим пропущенные значения столбца Tenure медианным значением\n",
    "med = data['Tenure'].median()\n",
    "display(med)\n",
    "data['Tenure'] = data['Tenure'].fillna(med)"
   ]
  },
  {
   "cell_type": "markdown",
   "metadata": {},
   "source": [
    "Признаки `Surname`, `RowNumber` и `CustomerId` являются нерелевантными для нашего проекта. Избавимся от них."
   ]
  },
  {
   "cell_type": "code",
   "execution_count": 8,
   "metadata": {},
   "outputs": [
    {
     "data": {
      "text/html": [
       "<div>\n",
       "<style scoped>\n",
       "    .dataframe tbody tr th:only-of-type {\n",
       "        vertical-align: middle;\n",
       "    }\n",
       "\n",
       "    .dataframe tbody tr th {\n",
       "        vertical-align: top;\n",
       "    }\n",
       "\n",
       "    .dataframe thead th {\n",
       "        text-align: right;\n",
       "    }\n",
       "</style>\n",
       "<table border=\"1\" class=\"dataframe\">\n",
       "  <thead>\n",
       "    <tr style=\"text-align: right;\">\n",
       "      <th></th>\n",
       "      <th>CreditScore</th>\n",
       "      <th>Geography</th>\n",
       "      <th>Gender</th>\n",
       "      <th>Age</th>\n",
       "      <th>Tenure</th>\n",
       "      <th>Balance</th>\n",
       "      <th>NumOfProducts</th>\n",
       "      <th>HasCrCard</th>\n",
       "      <th>IsActiveMember</th>\n",
       "      <th>EstimatedSalary</th>\n",
       "      <th>Exited</th>\n",
       "    </tr>\n",
       "  </thead>\n",
       "  <tbody>\n",
       "    <tr>\n",
       "      <th>0</th>\n",
       "      <td>619</td>\n",
       "      <td>France</td>\n",
       "      <td>Female</td>\n",
       "      <td>42</td>\n",
       "      <td>2.0</td>\n",
       "      <td>0.00</td>\n",
       "      <td>1</td>\n",
       "      <td>1</td>\n",
       "      <td>1</td>\n",
       "      <td>101348.88</td>\n",
       "      <td>1</td>\n",
       "    </tr>\n",
       "    <tr>\n",
       "      <th>1</th>\n",
       "      <td>608</td>\n",
       "      <td>Spain</td>\n",
       "      <td>Female</td>\n",
       "      <td>41</td>\n",
       "      <td>1.0</td>\n",
       "      <td>83807.86</td>\n",
       "      <td>1</td>\n",
       "      <td>0</td>\n",
       "      <td>1</td>\n",
       "      <td>112542.58</td>\n",
       "      <td>0</td>\n",
       "    </tr>\n",
       "    <tr>\n",
       "      <th>2</th>\n",
       "      <td>502</td>\n",
       "      <td>France</td>\n",
       "      <td>Female</td>\n",
       "      <td>42</td>\n",
       "      <td>8.0</td>\n",
       "      <td>159660.80</td>\n",
       "      <td>3</td>\n",
       "      <td>1</td>\n",
       "      <td>0</td>\n",
       "      <td>113931.57</td>\n",
       "      <td>1</td>\n",
       "    </tr>\n",
       "    <tr>\n",
       "      <th>3</th>\n",
       "      <td>699</td>\n",
       "      <td>France</td>\n",
       "      <td>Female</td>\n",
       "      <td>39</td>\n",
       "      <td>1.0</td>\n",
       "      <td>0.00</td>\n",
       "      <td>2</td>\n",
       "      <td>0</td>\n",
       "      <td>0</td>\n",
       "      <td>93826.63</td>\n",
       "      <td>0</td>\n",
       "    </tr>\n",
       "    <tr>\n",
       "      <th>4</th>\n",
       "      <td>850</td>\n",
       "      <td>Spain</td>\n",
       "      <td>Female</td>\n",
       "      <td>43</td>\n",
       "      <td>2.0</td>\n",
       "      <td>125510.82</td>\n",
       "      <td>1</td>\n",
       "      <td>1</td>\n",
       "      <td>1</td>\n",
       "      <td>79084.10</td>\n",
       "      <td>0</td>\n",
       "    </tr>\n",
       "  </tbody>\n",
       "</table>\n",
       "</div>"
      ],
      "text/plain": [
       "   CreditScore Geography  Gender  Age  Tenure    Balance  NumOfProducts  \\\n",
       "0          619    France  Female   42     2.0       0.00              1   \n",
       "1          608     Spain  Female   41     1.0   83807.86              1   \n",
       "2          502    France  Female   42     8.0  159660.80              3   \n",
       "3          699    France  Female   39     1.0       0.00              2   \n",
       "4          850     Spain  Female   43     2.0  125510.82              1   \n",
       "\n",
       "   HasCrCard  IsActiveMember  EstimatedSalary  Exited  \n",
       "0          1               1        101348.88       1  \n",
       "1          0               1        112542.58       0  \n",
       "2          1               0        113931.57       1  \n",
       "3          0               0         93826.63       0  \n",
       "4          1               1         79084.10       0  "
      ]
     },
     "execution_count": 8,
     "metadata": {},
     "output_type": "execute_result"
    }
   ],
   "source": [
    "data = data.drop(['Surname', 'RowNumber', 'CustomerId'], axis=1)\n",
    "data.head()"
   ]
  },
  {
   "cell_type": "markdown",
   "metadata": {},
   "source": [
    "Применим прямое кодирование ко всему датафрейму."
   ]
  },
  {
   "cell_type": "code",
   "execution_count": 9,
   "metadata": {},
   "outputs": [],
   "source": [
    "data_ohe = pd.get_dummies(data, drop_first=True)"
   ]
  },
  {
   "cell_type": "markdown",
   "metadata": {},
   "source": [
    "Разделим данные на признаки (features) и целевой признак (target).  \n",
    "Целевым признаком будет факт ухода клиента - столбец `Exited`.  \n",
    "Признаками будут все столбцы, кроме `Exited`."
   ]
  },
  {
   "cell_type": "code",
   "execution_count": 10,
   "metadata": {},
   "outputs": [],
   "source": [
    "features = data_ohe.drop('Exited', axis=1)\n",
    "target = data_ohe['Exited']"
   ]
  },
  {
   "cell_type": "code",
   "execution_count": 11,
   "metadata": {},
   "outputs": [],
   "source": [
    "RANDOM_STATE = 12345"
   ]
  },
  {
   "cell_type": "code",
   "execution_count": 12,
   "metadata": {},
   "outputs": [],
   "source": [
    "# Разделим данные с признаками и целевым признаком на две выборки - обучающую и валидационную.\n",
    "features_train, features_valid, target_train, target_valid = train_test_split(features, target,\n",
    "                                                                              test_size=0.4, random_state=RANDOM_STATE)"
   ]
  },
  {
   "cell_type": "code",
   "execution_count": 13,
   "metadata": {},
   "outputs": [],
   "source": [
    "# Разделим валидационне данные с признаками и целевым признаком на две выборки - валидационную и тестовую.\n",
    "features_valid, features_test, target_valid, target_test = train_test_split(features_valid, target_valid,\n",
    "                                                                              test_size=0.5, random_state=RANDOM_STATE)"
   ]
  },
  {
   "cell_type": "code",
   "execution_count": 14,
   "metadata": {},
   "outputs": [
    {
     "name": "stdout",
     "output_type": "stream",
     "text": [
      "features_train:  (6000, 11)\n",
      "features_valid:  (2000, 11)\n",
      "features_test:   (2000, 11)\n"
     ]
    }
   ],
   "source": [
    "print('features_train: ', features_train.shape)\n",
    "print('features_valid: ', features_valid.shape)\n",
    "print('features_test:  ', features_test.shape)"
   ]
  },
  {
   "cell_type": "markdown",
   "metadata": {},
   "source": [
    "Мы разделили данные в соотношении 60:20:20.  \n",
    "В тренировочной выборке у нас получилось 6000 объектов, в валидационной и тестовой - по 2000 объектов"
   ]
  },
  {
   "cell_type": "markdown",
   "metadata": {},
   "source": [
    "Теперь стандартизируем численные признаки."
   ]
  },
  {
   "cell_type": "code",
   "execution_count": 15,
   "metadata": {},
   "outputs": [
    {
     "data": {
      "text/html": [
       "<div>\n",
       "<style scoped>\n",
       "    .dataframe tbody tr th:only-of-type {\n",
       "        vertical-align: middle;\n",
       "    }\n",
       "\n",
       "    .dataframe tbody tr th {\n",
       "        vertical-align: top;\n",
       "    }\n",
       "\n",
       "    .dataframe thead th {\n",
       "        text-align: right;\n",
       "    }\n",
       "</style>\n",
       "<table border=\"1\" class=\"dataframe\">\n",
       "  <thead>\n",
       "    <tr style=\"text-align: right;\">\n",
       "      <th></th>\n",
       "      <th>CreditScore</th>\n",
       "      <th>Age</th>\n",
       "      <th>Tenure</th>\n",
       "      <th>Balance</th>\n",
       "      <th>NumOfProducts</th>\n",
       "      <th>HasCrCard</th>\n",
       "      <th>IsActiveMember</th>\n",
       "      <th>EstimatedSalary</th>\n",
       "      <th>Geography_Germany</th>\n",
       "      <th>Geography_Spain</th>\n",
       "      <th>Gender_Male</th>\n",
       "    </tr>\n",
       "  </thead>\n",
       "  <tbody>\n",
       "    <tr>\n",
       "      <th>7479</th>\n",
       "      <td>567</td>\n",
       "      <td>35</td>\n",
       "      <td>8.0</td>\n",
       "      <td>153137.74</td>\n",
       "      <td>1</td>\n",
       "      <td>1</td>\n",
       "      <td>0</td>\n",
       "      <td>88659.07</td>\n",
       "      <td>False</td>\n",
       "      <td>True</td>\n",
       "      <td>True</td>\n",
       "    </tr>\n",
       "    <tr>\n",
       "      <th>3411</th>\n",
       "      <td>711</td>\n",
       "      <td>37</td>\n",
       "      <td>8.0</td>\n",
       "      <td>113899.92</td>\n",
       "      <td>1</td>\n",
       "      <td>0</td>\n",
       "      <td>0</td>\n",
       "      <td>80215.20</td>\n",
       "      <td>False</td>\n",
       "      <td>False</td>\n",
       "      <td>False</td>\n",
       "    </tr>\n",
       "    <tr>\n",
       "      <th>6027</th>\n",
       "      <td>850</td>\n",
       "      <td>44</td>\n",
       "      <td>3.0</td>\n",
       "      <td>140393.65</td>\n",
       "      <td>2</td>\n",
       "      <td>0</td>\n",
       "      <td>1</td>\n",
       "      <td>186285.52</td>\n",
       "      <td>True</td>\n",
       "      <td>False</td>\n",
       "      <td>True</td>\n",
       "    </tr>\n",
       "    <tr>\n",
       "      <th>1247</th>\n",
       "      <td>512</td>\n",
       "      <td>24</td>\n",
       "      <td>6.0</td>\n",
       "      <td>0.00</td>\n",
       "      <td>2</td>\n",
       "      <td>1</td>\n",
       "      <td>0</td>\n",
       "      <td>37654.31</td>\n",
       "      <td>False</td>\n",
       "      <td>False</td>\n",
       "      <td>True</td>\n",
       "    </tr>\n",
       "    <tr>\n",
       "      <th>3716</th>\n",
       "      <td>665</td>\n",
       "      <td>27</td>\n",
       "      <td>2.0</td>\n",
       "      <td>147435.96</td>\n",
       "      <td>1</td>\n",
       "      <td>0</td>\n",
       "      <td>0</td>\n",
       "      <td>187508.06</td>\n",
       "      <td>True</td>\n",
       "      <td>False</td>\n",
       "      <td>False</td>\n",
       "    </tr>\n",
       "  </tbody>\n",
       "</table>\n",
       "</div>"
      ],
      "text/plain": [
       "      CreditScore  Age  Tenure    Balance  NumOfProducts  HasCrCard  \\\n",
       "7479          567   35     8.0  153137.74              1          1   \n",
       "3411          711   37     8.0  113899.92              1          0   \n",
       "6027          850   44     3.0  140393.65              2          0   \n",
       "1247          512   24     6.0       0.00              2          1   \n",
       "3716          665   27     2.0  147435.96              1          0   \n",
       "\n",
       "      IsActiveMember  EstimatedSalary  Geography_Germany  Geography_Spain  \\\n",
       "7479               0         88659.07              False             True   \n",
       "3411               0         80215.20              False            False   \n",
       "6027               1        186285.52               True            False   \n",
       "1247               0         37654.31              False            False   \n",
       "3716               0        187508.06               True            False   \n",
       "\n",
       "      Gender_Male  \n",
       "7479         True  \n",
       "3411        False  \n",
       "6027         True  \n",
       "1247         True  \n",
       "3716        False  "
      ]
     },
     "execution_count": 15,
     "metadata": {},
     "output_type": "execute_result"
    }
   ],
   "source": [
    "features_train.head()"
   ]
  },
  {
   "cell_type": "code",
   "execution_count": 16,
   "metadata": {},
   "outputs": [],
   "source": [
    "numeric = ['CreditScore', 'Age', 'Tenure', 'Balance', 'NumOfProducts', 'EstimatedSalary']"
   ]
  },
  {
   "cell_type": "code",
   "execution_count": 17,
   "metadata": {},
   "outputs": [],
   "source": [
    "pd.options.mode.chained_assignment = None # Чтобы не появялось предупреждение SettingWithCopy \n",
    "scaler = StandardScaler()\n",
    "scaler.fit(features_train[numeric])\n",
    "features_train[numeric] = scaler.transform(features_train[numeric])\n",
    "features_valid[numeric] = scaler.transform(features_valid[numeric])\n",
    "features_test[numeric] = scaler.transform(features_test[numeric])"
   ]
  },
  {
   "cell_type": "markdown",
   "metadata": {},
   "source": [
    "## Исследование задачи"
   ]
  },
  {
   "cell_type": "markdown",
   "metadata": {},
   "source": [
    "Проверим соотношение отрицательных и положительных ответов"
   ]
  },
  {
   "cell_type": "code",
   "execution_count": 18,
   "metadata": {
    "scrolled": false
   },
   "outputs": [
    {
     "name": "stdout",
     "output_type": "stream",
     "text": [
      "Exited\n",
      "0    0.800667\n",
      "1    0.199333\n",
      "Name: proportion, dtype: float64\n"
     ]
    },
    {
     "data": {
      "image/png": "[encoded data removed]",
      "text/plain": [
       "<Figure size 640x480 with 1 Axes>"
      ]
     },
     "metadata": {},
     "output_type": "display_data"
    }
   ],
   "source": [
    "target_valid.value_counts(normalize=1).plot(kind ='bar', grid=True, color='#93b5e1')\n",
    "print(target_train.value_counts(normalize=1))"
   ]
  },
  {
   "cell_type": "markdown",
   "metadata": {},
   "source": [
    "В целевом признаке наблюдается дисбаланс классов, т.к. отрицательных ответов около 80%, а положительных около 20%."
   ]
  },
  {
   "cell_type": "markdown",
   "metadata": {},
   "source": [
    "### Проверим качество моделей без учета дисбаланса."
   ]
  },
  {
   "cell_type": "markdown",
   "metadata": {},
   "source": [
    "**Логистическая регрессия**"
   ]
  },
  {
   "cell_type": "code",
   "execution_count": 19,
   "metadata": {},
   "outputs": [
    {
     "name": "stdout",
     "output_type": "stream",
     "text": [
      "Логистическая регрессия:\n",
      "\n",
      "Матрица ошибок:\n",
      " [[1506   76]\n",
      " [ 320   98]]\n",
      "Полнота: 0.23444976076555024\n",
      "Точность: 0.5632183908045977\n",
      "F1-мера: 0.33108108108108103\n"
     ]
    }
   ],
   "source": [
    "model = LogisticRegression(random_state=RANDOM_STATE, solver='liblinear')\n",
    "model.fit(features_train, target_train)\n",
    "predicted_valid = model.predict(features_valid)\n",
    "print('Логистическая регрессия:\\n')\n",
    "metrics(target_valid, predicted_valid)"
   ]
  },
  {
   "cell_type": "code",
   "execution_count": 20,
   "metadata": {},
   "outputs": [
    {
     "data": {
      "image/png": "[encoded data removed]",
      "text/plain": [
       "<Figure size 640x480 with 1 Axes>"
      ]
     },
     "metadata": {},
     "output_type": "display_data"
    },
    {
     "name": "stdout",
     "output_type": "stream",
     "text": [
      "0.7587512627102753\n"
     ]
    }
   ],
   "source": [
    "auc_roc(features_valid, target_valid, model, 'Логистическая регрессия')"
   ]
  },
  {
   "cell_type": "markdown",
   "metadata": {},
   "source": [
    "Модель `логистическая регрессия` почти всегда дает отрицательные ответы."
   ]
  },
  {
   "cell_type": "markdown",
   "metadata": {},
   "source": [
    "**Дерево решений**"
   ]
  },
  {
   "cell_type": "code",
   "execution_count": 21,
   "metadata": {},
   "outputs": [
    {
     "name": "stdout",
     "output_type": "stream",
     "text": [
      "F1-мера наилучшей модели на валидационной выборке: 0.577524893314367 \n",
      "Лучший max_depth: 9 \n",
      "Лучший min_samples_leaf: 1 \n",
      "Лучший min_samples_split: 18\n"
     ]
    }
   ],
   "source": [
    "best_result = 0\n",
    "for i1 in range(1, 21):\n",
    "    for i2 in range(1, 20, 2):\n",
    "        for i3 in np.arange(2, 25, 2):\n",
    "            model = DecisionTreeClassifier(random_state=RANDOM_STATE, max_depth=i1,\n",
    "                                           min_samples_leaf=i2, min_samples_split=i3)\n",
    "            model.fit(features_train, target_train)\n",
    "            predicted_valid = model.predict(features_valid)\n",
    "            result = f1_score(target_valid, predicted_valid)\n",
    "            if result > best_result:\n",
    "                best_result = result\n",
    "                best_max_depth = i1\n",
    "                best_min_samples_leaf = i2\n",
    "                best_min_samples_split = i3\n",
    "                best_DTC = model\n",
    "\n",
    "print('F1-мера наилучшей модели на валидационной выборке:', best_result,'\\nЛучший max_depth:', best_max_depth,\n",
    "     '\\nЛучший min_samples_leaf:', best_min_samples_leaf, '\\nЛучший min_samples_split:', best_min_samples_split)"
   ]
  },
  {
   "cell_type": "code",
   "execution_count": 22,
   "metadata": {},
   "outputs": [
    {
     "name": "stdout",
     "output_type": "stream",
     "text": [
      "Дерево решений:\n",
      "\n",
      "Матрица ошибок:\n",
      " [[1500   82]\n",
      " [ 215  203]]\n",
      "Полнота: 0.48564593301435405\n",
      "Точность: 0.712280701754386\n",
      "F1-мера: 0.577524893314367\n"
     ]
    }
   ],
   "source": [
    "predicted_valid = best_DTC.predict(features_valid)\n",
    "print('Дерево решений:\\n')\n",
    "metrics(target_valid, predicted_valid)"
   ]
  },
  {
   "cell_type": "code",
   "execution_count": 23,
   "metadata": {
    "scrolled": false
   },
   "outputs": [
    {
     "data": {
      "image/png": "[encoded data removed]",
      "text/plain": [
       "<Figure size 640x480 with 1 Axes>"
      ]
     },
     "metadata": {},
     "output_type": "display_data"
    },
    {
     "name": "stdout",
     "output_type": "stream",
     "text": [
      "0.8073315831816064\n"
     ]
    }
   ],
   "source": [
    "auc_roc(features_valid, target_valid, best_DTC, 'Дерево решений')"
   ]
  },
  {
   "cell_type": "markdown",
   "metadata": {},
   "source": [
    "`Дерево решений` показало лучший результат, чем `логическая регрессия`, но до идеала еще далеко."
   ]
  },
  {
   "cell_type": "markdown",
   "metadata": {},
   "source": [
    "**Случайный лес**"
   ]
  },
  {
   "cell_type": "code",
   "execution_count": 24,
   "metadata": {},
   "outputs": [
    {
     "name": "stdout",
     "output_type": "stream",
     "text": [
      "Лучшие параметры для случайного леса \n",
      "n_estimators: 9 \n",
      "max_depth: 14\n"
     ]
    }
   ],
   "source": [
    "best_result = 0\n",
    "for est in range(1, 50, 2):\n",
    "    for depth in range(1, 21):\n",
    "        model = RandomForestClassifier(random_state=12345, n_estimators=est, max_depth=depth)\n",
    "        model.fit(features_train, target_train)\n",
    "        predicted_valid = model.predict(features_valid)\n",
    "        result = f1_score(target_valid, predicted_valid)\n",
    "        if result > best_result:\n",
    "            best_result = result\n",
    "            best_n_estimators = est\n",
    "            best_max_depth = depth\n",
    "            best_RFC = model\n",
    "print('Лучшие параметры для случайного леса', '\\nn_estimators:', best_n_estimators, '\\nmax_depth:', best_max_depth)"
   ]
  },
  {
   "cell_type": "code",
   "execution_count": 25,
   "metadata": {},
   "outputs": [
    {
     "name": "stdout",
     "output_type": "stream",
     "text": [
      "Случайный лес:\n",
      "\n",
      "Матрица ошибок:\n",
      " [[1517   65]\n",
      " [ 211  207]]\n",
      "Полнота: 0.49521531100478466\n",
      "Точность: 0.7610294117647058\n",
      "F1-мера: 0.5999999999999999\n"
     ]
    }
   ],
   "source": [
    "predicted_valid = best_RFC.predict(features_valid)\n",
    "print('Случайный лес:\\n')\n",
    "metrics(target_valid, predicted_valid)"
   ]
  },
  {
   "cell_type": "code",
   "execution_count": 26,
   "metadata": {},
   "outputs": [
    {
     "data": {
      "image/png": "[encoded data removed]",
      "text/plain": [
       "<Figure size 640x480 with 1 Axes>"
      ]
     },
     "metadata": {},
     "output_type": "display_data"
    },
    {
     "name": "stdout",
     "output_type": "stream",
     "text": [
      "0.8222860046334661\n"
     ]
    }
   ],
   "source": [
    "auc_roc(features_valid, target_valid, best_RFC, 'Случайный лес')"
   ]
  },
  {
   "cell_type": "markdown",
   "metadata": {},
   "source": [
    "`F1-мера` без учета дисбаланса :  \n",
    "- у `логистической регресси`: 0.33108108108108103\n",
    "- у `дерева решений`: 0.577524893314367\n",
    "- у `случайного леса`: 0.5999999999999999\n",
    "\n",
    "`AUC-ROC` без учета дисбаланса :  \n",
    "- у `логистической регресси`: 0.7587512627102753 \n",
    "- у `дерева решений`: 0.8073315831816064 \n",
    "- у `случайного леса`: 0.8222860046334661\n",
    "\n",
    "Наилучший результат показал `случайный лес` с гиперпараметрами:\n",
    "- n_estimators: 9 \n",
    "- max_depth: 14"
   ]
  },
  {
   "cell_type": "markdown",
   "metadata": {},
   "source": [
    "## Борьба с дисбалансом"
   ]
  },
  {
   "cell_type": "markdown",
   "metadata": {},
   "source": [
    "### Увеличение выборки"
   ]
  },
  {
   "cell_type": "markdown",
   "metadata": {},
   "source": [
    "Как мы выяснили ранее, отрицательных ответов в нашей выборке в 4 раза больше, чем положительных (80% и 20%). Поэтому увеличим в 4 раза количество положительных ответов."
   ]
  },
  {
   "cell_type": "code",
   "execution_count": 27,
   "metadata": {},
   "outputs": [],
   "source": [
    "features_upsampled, target_upsampled = upsample(features_train, target_train, 4)"
   ]
  },
  {
   "cell_type": "code",
   "execution_count": 28,
   "metadata": {},
   "outputs": [
    {
     "name": "stdout",
     "output_type": "stream",
     "text": [
      "Exited\n",
      "0    0.501043\n",
      "1    0.498957\n",
      "Name: proportion, dtype: float64\n"
     ]
    },
    {
     "data": {
      "image/png": "[encoded data removed]",
      "text/plain": [
       "<Figure size 640x480 with 1 Axes>"
      ]
     },
     "metadata": {},
     "output_type": "display_data"
    }
   ],
   "source": [
    "target_upsampled.value_counts(normalize=1).plot(kind ='bar', grid=True, color='#93b5e1')\n",
    "print(target_upsampled.value_counts(normalize=1))"
   ]
  },
  {
   "cell_type": "markdown",
   "metadata": {},
   "source": [
    "Теперь количество положительных и отрицательных ответов почти поровну:  \n",
    "- 0: 0.501043\n",
    "- 1: 0.498957  \n",
    "\n",
    "Обучим наши модели с учетом дисбаланса и определим лучшую."
   ]
  },
  {
   "cell_type": "markdown",
   "metadata": {},
   "source": [
    "**Логистическая регрессия**"
   ]
  },
  {
   "cell_type": "code",
   "execution_count": 29,
   "metadata": {},
   "outputs": [
    {
     "name": "stdout",
     "output_type": "stream",
     "text": [
      "Логистическая регрессия:\n",
      "\n",
      "Матрица ошибок:\n",
      " [[1119  463]\n",
      " [ 133  285]]\n",
      "Полнота: 0.6818181818181818\n",
      "Точность: 0.3810160427807487\n",
      "F1-мера: 0.4888507718696398\n"
     ]
    }
   ],
   "source": [
    "model = LogisticRegression(random_state=RANDOM_STATE, solver='liblinear')\n",
    "model.fit(features_upsampled, target_upsampled)\n",
    "predicted_valid = model.predict(features_valid)\n",
    "print('Логистическая регрессия:\\n')\n",
    "metrics(target_valid, predicted_valid)"
   ]
  },
  {
   "cell_type": "code",
   "execution_count": 30,
   "metadata": {
    "scrolled": false
   },
   "outputs": [
    {
     "data": {
      "image/png": "[encoded data removed]",
      "text/plain": [
       "<Figure size 640x480 with 1 Axes>"
      ]
     },
     "metadata": {},
     "output_type": "display_data"
    },
    {
     "name": "stdout",
     "output_type": "stream",
     "text": [
      "0.7636478565682107\n"
     ]
    }
   ],
   "source": [
    "auc_roc(features_valid, target_valid, model, 'Логистическая регрессия')"
   ]
  },
  {
   "cell_type": "markdown",
   "metadata": {},
   "source": [
    "С учетом дисбаланса, модель `логистическая регрессия` стала предсказывать гораздо лучше. "
   ]
  },
  {
   "cell_type": "markdown",
   "metadata": {},
   "source": [
    "**Дерево решений**"
   ]
  },
  {
   "cell_type": "code",
   "execution_count": 70,
   "metadata": {
    "scrolled": true
   },
   "outputs": [
    {
     "name": "stdout",
     "output_type": "stream",
     "text": [
      "F1-мера наилучшей модели на валидационной выборке: 0.6010471204188481 \n",
      "Лучший max_depth: 5 \n",
      "Лучший min_samples_leaf: 19 \n",
      "Лучший min_samples_split: 2\n"
     ]
    }
   ],
   "source": [
    "best_result = 0\n",
    "for i1 in range(1, 21):\n",
    "    for i2 in range(19, 40, 1):\n",
    "        for i3 in np.arange(2, 25, 2):\n",
    "            model = DecisionTreeClassifier(random_state=RANDOM_STATE, max_depth=i1,\n",
    "                                           min_samples_leaf=i2, min_samples_split=i3)\n",
    "            model.fit(features_upsampled, target_upsampled)\n",
    "            predicted_valid = model.predict(features_valid)\n",
    "            result = f1_score(target_valid, predicted_valid)\n",
    "            if result > best_result:\n",
    "                best_result = result\n",
    "                best_max_depth = i1\n",
    "                best_min_samples_leaf = i2\n",
    "                best_min_samples_split = i3\n",
    "                best_DTC_up = model\n",
    "\n",
    "print('F1-мера наилучшей модели на валидационной выборке:', best_result,'\\nЛучший max_depth:', best_max_depth,\n",
    "     '\\nЛучший min_samples_leaf:', best_min_samples_leaf, '\\nЛучший min_samples_split:', best_min_samples_split)"
   ]
  },
  {
   "cell_type": "markdown",
   "metadata": {},
   "source": [
    "~~F1-мера наилучшей модели на валидационной выборке: 0.6010471204188481   \n",
    "Лучший max_depth: 5   \n",
    "Лучший min_samples_leaf: 2   \n",
    "Лучший min_samples_split: 42  ~~"
   ]
  },
  {
   "cell_type": "code",
   "execution_count": 32,
   "metadata": {},
   "outputs": [],
   "source": [
    "predicted_valid = best_DTC_up.predict(features_valid)"
   ]
  },
  {
   "cell_type": "code",
   "execution_count": 33,
   "metadata": {},
   "outputs": [
    {
     "name": "stdout",
     "output_type": "stream",
     "text": [
      "Матрица ошибок:\n",
      " [[1332  250]\n",
      " [ 131  287]]\n",
      "Полнота: 0.6866028708133971\n",
      "Точность: 0.5344506517690876\n",
      "F1-мера: 0.6010471204188481\n"
     ]
    }
   ],
   "source": [
    "metrics(target_valid, predicted_valid)"
   ]
  },
  {
   "cell_type": "code",
   "execution_count": 34,
   "metadata": {},
   "outputs": [
    {
     "data": {
      "image/png": "[encoded data removed]",
      "text/plain": [
       "<Figure size 640x480 with 1 Axes>"
      ]
     },
     "metadata": {},
     "output_type": "display_data"
    },
    {
     "name": "stdout",
     "output_type": "stream",
     "text": [
      "0.8368449784961197\n"
     ]
    }
   ],
   "source": [
    "auc_roc(features_valid, target_valid, best_DTC_up, 'Дерево решений')"
   ]
  },
  {
   "cell_type": "markdown",
   "metadata": {},
   "source": [
    "Качество модели `дерево решений` с учетом дисбаланса тоже улучшилось."
   ]
  },
  {
   "cell_type": "markdown",
   "metadata": {},
   "source": [
    "**Случайный лес**"
   ]
  },
  {
   "cell_type": "code",
   "execution_count": 61,
   "metadata": {},
   "outputs": [
    {
     "name": "stdout",
     "output_type": "stream",
     "text": [
      "F1-мера наилучшей модели на валидационной выборке: 0.6275346851654217 \n",
      "Лучший n_estimators: 100 \n",
      "Лучший max_depth: 9\n"
     ]
    }
   ],
   "source": [
    "best_result = 0\n",
    "for est in range(25, 301, 25):\n",
    "    for depth in range(2, 50):\n",
    "        model = RandomForestClassifier(random_state=RANDOM_STATE, n_estimators=est, max_depth=depth, n_jobs=-1)\n",
    "        model.fit(features_upsampled, target_upsampled)\n",
    "        predicted_valid = model.predict(features_valid)\n",
    "        result = f1_score(target_valid, predicted_valid)\n",
    "        if result > best_result:\n",
    "            best_result = result\n",
    "            best_n_estimators = est\n",
    "            best_max_depth = depth\n",
    "            best_RFC_up = model\n",
    "\n",
    "print('F1-мера наилучшей модели на валидационной выборке:', best_result, '\\nЛучший n_estimators:', best_n_estimators,\n",
    "     '\\nЛучший max_depth:', best_max_depth)"
   ]
  },
  {
   "cell_type": "code",
   "execution_count": 63,
   "metadata": {},
   "outputs": [],
   "source": [
    "predicted_valid = best_RFC_up.predict(features_valid)"
   ]
  },
  {
   "cell_type": "code",
   "execution_count": 64,
   "metadata": {},
   "outputs": [
    {
     "name": "stdout",
     "output_type": "stream",
     "text": [
      "Матрица ошибок:\n",
      " [[1357  225]\n",
      " [ 124  294]]\n",
      "Полнота: 0.7033492822966507\n",
      "Точность: 0.5664739884393064\n",
      "F1-мера: 0.6275346851654217\n"
     ]
    }
   ],
   "source": [
    "metrics(target_valid, predicted_valid)"
   ]
  },
  {
   "cell_type": "code",
   "execution_count": 66,
   "metadata": {
    "scrolled": false
   },
   "outputs": [
    {
     "data": {
      "image/png": "[encoded data removed]",
      "text/plain": [
       "<Figure size 640x480 with 1 Axes>"
      ]
     },
     "metadata": {},
     "output_type": "display_data"
    },
    {
     "name": "stdout",
     "output_type": "stream",
     "text": [
      "0.8526772482291812\n"
     ]
    }
   ],
   "source": [
    "auc_roc(features_valid, target_valid, best_RFC_up, 'Случайный лес')"
   ]
  },
  {
   "cell_type": "markdown",
   "metadata": {},
   "source": [
    "Качество модели `случайный лес`, как и у предыдущих моделей, с учетом дисбаланса, заметно улучшилось."
   ]
  },
  {
   "cell_type": "markdown",
   "metadata": {},
   "source": [
    "**На увеличенной выборке**  \n",
    "\n",
    "F1-мера с учетом дисбаланса:  \n",
    "- у логистической регресси: 0.4888507718696398\n",
    "- у дерева решений: 0.6010471204188481  \n",
    "- у случайного леса: 0.6275346851654217 \n",
    "\n",
    "AUC-ROC с учетом дисбаланса:  \n",
    "- у логистической регресси: 0.7636478565682107\n",
    "- у дерева решений: 0.8368449784961197\n",
    "- у случайного леса: 0.8526772482291812  \n",
    "\n",
    "Лучшей моделью стал `случайный лес` с гиперпараметрами:\n",
    "- n_estimators: 100 \n",
    "- max_depth: 9"
   ]
  },
  {
   "cell_type": "markdown",
   "metadata": {},
   "source": [
    "### Уменьшение выборки"
   ]
  },
  {
   "cell_type": "code",
   "execution_count": 39,
   "metadata": {
    "scrolled": true
   },
   "outputs": [
    {
     "name": "stdout",
     "output_type": "stream",
     "text": [
      "Exited\n",
      "0    0.501043\n",
      "1    0.498957\n",
      "Name: proportion, dtype: float64\n"
     ]
    },
    {
     "data": {
      "image/png": "[encoded data removed]",
      "text/plain": [
       "<Figure size 640x480 with 1 Axes>"
      ]
     },
     "metadata": {},
     "output_type": "display_data"
    }
   ],
   "source": [
    "features_downsampled, target_downsampled = downsample(features_train, target_train, 0.25)\n",
    "target_downsampled.value_counts(normalize=1).plot(kind ='bar', grid=True, color='#93b5e1')\n",
    "print(target_downsampled.value_counts(normalize=1))"
   ]
  },
  {
   "cell_type": "code",
   "execution_count": 40,
   "metadata": {},
   "outputs": [
    {
     "name": "stdout",
     "output_type": "stream",
     "text": [
      "Логистическая регрессия:\n",
      "\n",
      "Матрица ошибок:\n",
      " [[1120  462]\n",
      " [ 137  281]]\n",
      "Полнота: 0.6722488038277512\n",
      "Точность: 0.3781965006729475\n",
      "F1-мера: 0.48406546080964685\n"
     ]
    }
   ],
   "source": [
    "model = LogisticRegression(random_state=RANDOM_STATE, solver='liblinear')\n",
    "model.fit(features_downsampled, target_downsampled)\n",
    "predicted_valid = model.predict(features_valid)\n",
    "print('Логистическая регрессия:\\n')\n",
    "metrics(target_valid, predicted_valid)"
   ]
  },
  {
   "cell_type": "code",
   "execution_count": 41,
   "metadata": {
    "scrolled": false
   },
   "outputs": [
    {
     "data": {
      "image/png": "[encoded data removed]",
      "text/plain": [
       "<Figure size 640x480 with 1 Axes>"
      ]
     },
     "metadata": {},
     "output_type": "display_data"
    },
    {
     "name": "stdout",
     "output_type": "stream",
     "text": [
      "0.7622883637089505\n"
     ]
    }
   ],
   "source": [
    "auc_roc(features_valid, target_valid, model, 'Логистическая регрессия')"
   ]
  },
  {
   "cell_type": "markdown",
   "metadata": {},
   "source": [
    "**Дерево решений**"
   ]
  },
  {
   "cell_type": "code",
   "execution_count": 42,
   "metadata": {},
   "outputs": [
    {
     "name": "stdout",
     "output_type": "stream",
     "text": [
      "F1-мера наилучшей модели на валидационной выборке: 0.5995934959349594 \n",
      "Лучший max_depth: 5 \n",
      "Лучший min_samples_leaf: 3 \n",
      "Лучший min_samples_split: 18\n"
     ]
    }
   ],
   "source": [
    "best_result = 0\n",
    "for i1 in range(1, 21):\n",
    "    for i2 in range(1, 20, 2):\n",
    "        for i3 in np.arange(2, 25, 2):\n",
    "            model = DecisionTreeClassifier(random_state=RANDOM_STATE, max_depth=i1,\n",
    "                                           min_samples_leaf=i2, min_samples_split=i3)\n",
    "            model.fit(features_downsampled, target_downsampled)\n",
    "            predicted_valid = model.predict(features_valid)\n",
    "            result = f1_score(target_valid, predicted_valid)\n",
    "            if result > best_result:\n",
    "                best_result = result\n",
    "                best_max_depth = i1\n",
    "                best_min_samples_leaf = i2\n",
    "                best_min_samples_split = i3\n",
    "                best_DTC_down = model\n",
    "\n",
    "print('F1-мера наилучшей модели на валидационной выборке:', best_result,'\\nЛучший max_depth:', best_max_depth,\n",
    "     '\\nЛучший min_samples_leaf:', best_min_samples_leaf, '\\nЛучший min_samples_split:', best_min_samples_split)"
   ]
  },
  {
   "cell_type": "markdown",
   "metadata": {},
   "source": [
    "~~F1-мера наилучшей модели на валидационной выборке: 0.5995934959349594   \n",
    "Лучший max_depth: 5   \n",
    "Лучший min_samples_leaf: 3   \n",
    "Лучший min_samples_split: 17  ~~"
   ]
  },
  {
   "cell_type": "code",
   "execution_count": 43,
   "metadata": {},
   "outputs": [],
   "source": [
    "predicted_valid = best_DTC_down.predict(features_valid)"
   ]
  },
  {
   "cell_type": "code",
   "execution_count": 44,
   "metadata": {},
   "outputs": [
    {
     "name": "stdout",
     "output_type": "stream",
     "text": [
      "Матрица ошибок:\n",
      " [[1311  271]\n",
      " [ 123  295]]\n",
      "Полнота: 0.7057416267942583\n",
      "Точность: 0.5212014134275619\n",
      "F1-мера: 0.5995934959349594\n"
     ]
    }
   ],
   "source": [
    "metrics(target_valid, predicted_valid)"
   ]
  },
  {
   "cell_type": "code",
   "execution_count": 45,
   "metadata": {},
   "outputs": [
    {
     "data": {
      "image/png": "[encoded data removed]",
      "text/plain": [
       "<Figure size 640x480 with 1 Axes>"
      ]
     },
     "metadata": {},
     "output_type": "display_data"
    },
    {
     "name": "stdout",
     "output_type": "stream",
     "text": [
      "0.834765665168553\n"
     ]
    }
   ],
   "source": [
    "auc_roc(features_valid, target_valid, best_DTC_down, 'Дерево решений')"
   ]
  },
  {
   "cell_type": "markdown",
   "metadata": {},
   "source": [
    "**Случайный лес**"
   ]
  },
  {
   "cell_type": "code",
   "execution_count": 57,
   "metadata": {},
   "outputs": [
    {
     "name": "stdout",
     "output_type": "stream",
     "text": [
      "F1-мера наилучшей модели на валидационной выборке: 0.6072796934865899 \n",
      "Лучший n_estimators: 100 \n",
      "Лучший max_depth: 8\n"
     ]
    }
   ],
   "source": [
    "best_result = 0\n",
    "for est in range(100, 501, 50):\n",
    "    for depth in range(2, 25):\n",
    "        model = RandomForestClassifier(random_state=RANDOM_STATE, n_estimators=est, max_depth=depth, n_jobs=-1)\n",
    "        model.fit(features_downsampled, target_downsampled)\n",
    "        predicted_valid = model.predict(features_valid)\n",
    "        result = f1_score(target_valid, predicted_valid)\n",
    "        if result > best_result:\n",
    "            best_result = result\n",
    "            best_n_estimators = est\n",
    "            best_max_depth = depth\n",
    "            best_RFC_down = model\n",
    "\n",
    "print('F1-мера наилучшей модели на валидационной выборке:', best_result, '\\nЛучший n_estimators:', best_n_estimators,\n",
    "     '\\nЛучший max_depth:', best_max_depth)"
   ]
  },
  {
   "cell_type": "code",
   "execution_count": 58,
   "metadata": {},
   "outputs": [],
   "source": [
    "predicted_valid = best_RFC_down.predict(features_valid)"
   ]
  },
  {
   "cell_type": "code",
   "execution_count": 59,
   "metadata": {},
   "outputs": [
    {
     "name": "stdout",
     "output_type": "stream",
     "text": [
      "Матрица ошибок:\n",
      " [[1273  309]\n",
      " [ 101  317]]\n",
      "Полнота: 0.7583732057416268\n",
      "Точность: 0.5063897763578274\n",
      "F1-мера: 0.6072796934865899\n"
     ]
    }
   ],
   "source": [
    "metrics(target_valid, predicted_valid)"
   ]
  },
  {
   "cell_type": "code",
   "execution_count": 60,
   "metadata": {
    "scrolled": false
   },
   "outputs": [
    {
     "data": {
      "image/png": "[encoded data removed]",
      "text/plain": [
       "<Figure size 640x480 with 1 Axes>"
      ]
     },
     "metadata": {},
     "output_type": "display_data"
    },
    {
     "name": "stdout",
     "output_type": "stream",
     "text": [
      "0.8496709392144883\n"
     ]
    }
   ],
   "source": [
    "auc_roc(features_valid, target_valid, best_RFC_down, 'Случайный лес')"
   ]
  },
  {
   "cell_type": "markdown",
   "metadata": {},
   "source": [
    "**На уменьшенной выборке**  \n",
    "\n",
    "`F1-мера` с учетом дисбаланса:\n",
    "- у `логистической регресси`: 0.48406546080964685\n",
    "- у `дерева решений`: 0.5995934959349594\n",
    "- у `случайного леса`: 0.6072796934865899  \n",
    "\n",
    "`AUC-ROC` с учетом дисбаланса:\n",
    "- у `логистической регресси`: 0.7622883637089505\n",
    "- у `дерева решений`: 0.834765665168553\n",
    "- у `случайного леса`: 0.8496709392144883"
   ]
  },
  {
   "cell_type": "markdown",
   "metadata": {},
   "source": [
    "**На увеличенной выборке результат оказался лучше**"
   ]
  },
  {
   "cell_type": "markdown",
   "metadata": {},
   "source": [
    "## Тестирование модели"
   ]
  },
  {
   "cell_type": "markdown",
   "metadata": {},
   "source": [
    "Проверим нашу лучшую модель на тестовой выборке.  \n",
    "Модель: `Случайный лес`  \n",
    "Гиперпараметры модели:\n",
    "- n_estimators: 25\n",
    "- max_depth: 8  \n",
    "\n",
    "Метод борьбы с дисбалансом: `Увеличение выборки`"
   ]
  },
  {
   "cell_type": "code",
   "execution_count": 67,
   "metadata": {},
   "outputs": [
    {
     "name": "stdout",
     "output_type": "stream",
     "text": [
      "Матрица ошибок:\n",
      " [[1329  248]\n",
      " [ 128  295]]\n",
      "Полнота: 0.6973995271867612\n",
      "Точность: 0.5432780847145487\n",
      "F1-мера: 0.6107660455486542\n"
     ]
    }
   ],
   "source": [
    "predicted_test = best_RFC_up.predict(features_test)\n",
    "metrics(target_test, predicted_test)"
   ]
  },
  {
   "cell_type": "code",
   "execution_count": 68,
   "metadata": {},
   "outputs": [
    {
     "data": {
      "image/png": "[encoded data removed]",
      "text/plain": [
       "<Figure size 640x480 with 1 Axes>"
      ]
     },
     "metadata": {},
     "output_type": "display_data"
    },
    {
     "name": "stdout",
     "output_type": "stream",
     "text": [
      "0.8556960203636494\n"
     ]
    }
   ],
   "source": [
    "auc_roc(features_test, target_test, best_RFC_up, 'Случайный лес')"
   ]
  },
  {
   "cell_type": "markdown",
   "metadata": {},
   "source": [
    "На тестовой выборке `случайный лес` показал хороший результат:\n",
    "- `F1-мера`: 0.6107660455486542\n",
    "- `AUC-ROC`: 0.8556960203636494\n",
    "\n",
    "Цель достигнута, `F1-мера` на тестовой выборке больше 0.59."
   ]
  },
  {
   "cell_type": "markdown",
   "metadata": {},
   "source": [
    "## Общий вывод  \n",
    "1. Мы изучили предоставленный нам файл `Churn.csv`. Файл содержит 10000 объектов и состоит из 14 толбцов:  \n",
    "    - `RowNumber` — индекс строки в данных\n",
    "    - `CustomerId` — уникальный идентификатор клиента\n",
    "    - `Surname` — фамилия\n",
    "    - `CreditScore` — кредитный рейтинг\n",
    "    - `Geography` — страна проживания\n",
    "    - `Gender` — пол\n",
    "    - `Age` — возраст\n",
    "    - `Tenure` — сколько лет человек является клиентом банка\n",
    "    - `Balance` — баланс на счёте\n",
    "    - `NumOfProducts` — количество продуктов банка, используемых клиентом\n",
    "    - `HasCrCard` — наличие кредитной карты\n",
    "    - `IsActiveMember` — активность клиента\n",
    "    - `EstimatedSalary` — предполагаемая зарплата\n",
    "    - `Exited` — факт ухода клиента   \n",
    "2. Выяснили, что в столбце `Tenure` отсутствует 9% значений. Удалять мы их не стали, а заменили медианным значением (`5`).  \n",
    "3. Избавились от нерелевантных для нашего проекта признаков: `Surname`, `RowNumber` и `CustomerId`.  \n",
    "4. Применили прямое кодирование ко всему датафрейму.  \n",
    "5. Разделили данные на признаки (features) и целевой признак (target):\n",
    "    - целевой признак - столбец `Exited`\n",
    "    - признаки - все столбцы, кроме `Exited`  \n",
    "6. Разделили исходные данные на обучающую, валидационную и тестовую выборки в соотношении 60:20:20.  \n",
    "В тренировочной выборке у нас получилось 6000 объектов, в валидационной и тестовой - по 2000 объектов.   \n",
    "7. Стандартизировали численные признаки `CreditScore`, `Age`, `Tenure`, `NumOfProducts` и `EstimatedSalary` во всех выборках.  \n",
    "8. Выяснили, что в целевом признаке наблюдается дисбаланс классов:  \n",
    "    - отрицательных ответов около 80%\n",
    "    - положительных ответов около 20%.\n",
    "9. Проверили качество моделей `логистическая регрессия`, `дерево решений` и `случайный лес`.  \n",
    "В ходе проверки выяснили, что наилучший результат показала модель `случайный лес`:  \n",
    "    `F1-мера` без учета дисбаланса :  \n",
    "    - у `логистической регресси`: 0.023529411764705882  \n",
    "    - у `дерева решений`: 0.5006045949214026  \n",
    "    - у `случайного леса`: 0.5769805680119582  \n",
    "\n",
    "    `AUC-ROC` без учета дисбаланса :  \n",
    "    - у `логистической регресси`: 0.45469970178866315  \n",
    "    - у `дерева решений`: 0.6837644190927842  \n",
    "    - у `случайного леса`: 0.840733672475638  \n",
    "10. Для борьбы с дисбалансом увеличили количество положительных ответов в 4 раза. Количество отрицательных и положительных ответов почти сравнялось: \n",
    "    - 0: 0.501043\n",
    "    - 1: 0.498957  \n",
    "11. Обучили наши модели с учетом дисбаланса. Качество всех моделей стало заметно лучше:\n",
    "    F1-мера с учетом дисбаланса:  \n",
    "    - у логистической регресси: 0.40257648953301123 \n",
    "    - у дерева решений: 0.6010471204188481  \n",
    "    - у случайного леса: 0.6275346851654217  \n",
    "\n",
    "    AUC-ROC с учетом дисбаланса:  \n",
    "    - у логистической регресси: 0.5960506656827104  \n",
    "    - у дерева решений: 0.8367353419752117  \n",
    "    - у случайного леса: 0.8526772482291812 \n",
    "\n",
    "    Лучшей моделью стал `случайный лес` с гиперпараметрами:\n",
    "    - Лучший n_estimators: 100 \n",
    "    - Лучший max_depth: 9 \n",
    "\n",
    "12. Рассмотрели 2 способа брьбы с дисбалансом:\n",
    "    - увеличение выборки (редких классов)\n",
    "    - уменьшение выборки (частых классов)  \n",
    "    \n",
    "    На увеличенной выборке результат оказался лучше.  \n",
    "13. Проверили лучшую модель (`случайный лес`) на тестовой выборке. Результат оказался хорошим:\n",
    "    - `F1-мера`: 0.6107660455486542\n",
    "    - `AUC-ROC`: 0.8556960203636494\n",
    "\n",
    "14. Цель достигнута, `F1-мера` на тестовой выборке больше 0.59."
   ]
  },
  {
   "cell_type": "code",
   "execution_count": 52,
   "metadata": {},
   "outputs": [
    {
     "name": "stdout",
     "output_type": "stream",
     "text": [
      "\u001b[1mКонстантная модель:\n",
      "\u001b[0m\n",
      "Матрица ошибок:\n",
      " [[   0 1577]\n",
      " [   0  423]]\n",
      "Полнота: 1.0\n",
      "Точность: 0.2115\n",
      "F1-мера: 0.3491539413949649\n"
     ]
    }
   ],
   "source": [
    "target_pred_constant = pd.Series([1] * len(target_test))\n",
    "print('\\033[1mКонстантная модель:\\n\\033[0m')\n",
    "metrics(target_test, target_pred_constant)"
   ]
  },
  {
   "cell_type": "code",
   "execution_count": 53,
   "metadata": {},
   "outputs": [
    {
     "name": "stdout",
     "output_type": "stream",
     "text": [
      "\u001b[1mКонстантная модель:\n",
      "\u001b[0m\n",
      "Матрица ошибок:\n",
      " [[   0 1577]\n",
      " [   0  423]]\n",
      "Полнота: 1.0\n",
      "Точность: 0.2115\n",
      "F1-мера: 0.3491539413949649\n"
     ]
    }
   ],
   "source": [
    "dummy_model = DummyClassifier(strategy='constant', constant=1)\n",
    "dummy_model.fit(features_train, target_train)\n",
    "predicted_const = dummy_model.predict(features_test)\n",
    "print('\\033[1mКонстантная модель:\\n\\033[0m')\n",
    "metrics(target_test, predicted_const)"
   ]
  },
  {
   "cell_type": "markdown",
   "metadata": {},
   "source": [
    "<div class=\"alert alert-info\">\n",
    "F1-мера константной модели: 0.3491539413949649  \n",
    "    \n",
    "F1-мера нашей модели: 0.6107660455486542  \n",
    "    \n",
    "F1-мера нашей модели почти в два раза выше, чем константной. Полнота (recall) нашей модели равна 0.706855791962175. Это значит, что 70% клиентов, собирающихся расторгнуть договор с банком, наша модель определит верно.  \n",
    "    \n",
    "Исходя из всего вышесказанного, мы можем смело сказать - заказчик останется доволен, модель справилась с поставленной задачей."
   ]
  },
  {
   "cell_type": "markdown",
   "metadata": {},
   "source": [
    "## Чек-лист готовности проекта"
   ]
  },
  {
   "cell_type": "markdown",
   "metadata": {},
   "source": [
    "Поставьте 'x' в выполненных пунктах. Далее нажмите Shift+Enter."
   ]
  },
  {
   "cell_type": "markdown",
   "metadata": {},
   "source": [
    "- [x]  Jupyter Notebook открыт\n",
    "- [x]  Весь код выполняется без ошибок\n",
    "- [x]  Ячейки с кодом расположены в порядке исполнения\n",
    "- [x]  Выполнен шаг 1: данные подготовлены\n",
    "- [x]  Выполнен шаг 2: задача исследована\n",
    "    - [x]  Исследован баланс классов\n",
    "    - [x]  Изучены модели без учёта дисбаланса\n",
    "    - [x]  Написаны выводы по результатам исследования\n",
    "- [x]  Выполнен шаг 3: учтён дисбаланс\n",
    "    - [x]  Применено несколько способов борьбы с дисбалансом\n",
    "    - [x]  Написаны выводы по результатам исследования\n",
    "- [x]  Выполнен шаг 4: проведено тестирование\n",
    "- [x]  Удалось достичь *F1*-меры не менее 0.59\n",
    "- [x]  Исследована метрика *AUC-ROC*"
   ]
  },
  {
   "cell_type": "markdown",
   "metadata": {},
   "source": [
    "https://github.com/AleksandrPortnov/learning_with_a_teacher.git"
   ]
  }
 ],
 "metadata": {
  "ExecuteTimeLog": [
   {
    "duration": 3207,
    "start_time": "2023-06-16T05:07:11.024Z"
   },
   {
    "duration": 230,
    "start_time": "2023-06-16T05:07:14.234Z"
   },
   {
    "duration": 0,
    "start_time": "2023-06-16T05:07:14.467Z"
   },
   {
    "duration": 0,
    "start_time": "2023-06-16T05:07:14.468Z"
   },
   {
    "duration": 0,
    "start_time": "2023-06-16T05:07:14.469Z"
   },
   {
    "duration": 0,
    "start_time": "2023-06-16T05:07:14.470Z"
   },
   {
    "duration": 0,
    "start_time": "2023-06-16T05:07:14.471Z"
   },
   {
    "duration": 0,
    "start_time": "2023-06-16T05:07:14.473Z"
   },
   {
    "duration": 0,
    "start_time": "2023-06-16T05:07:14.475Z"
   },
   {
    "duration": 0,
    "start_time": "2023-06-16T05:07:14.477Z"
   },
   {
    "duration": 0,
    "start_time": "2023-06-16T05:07:14.478Z"
   },
   {
    "duration": 0,
    "start_time": "2023-06-16T05:07:14.479Z"
   },
   {
    "duration": 0,
    "start_time": "2023-06-16T05:07:14.481Z"
   },
   {
    "duration": 0,
    "start_time": "2023-06-16T05:07:14.483Z"
   },
   {
    "duration": 0,
    "start_time": "2023-06-16T05:07:14.484Z"
   },
   {
    "duration": 0,
    "start_time": "2023-06-16T05:07:14.486Z"
   },
   {
    "duration": 0,
    "start_time": "2023-06-16T05:07:14.488Z"
   },
   {
    "duration": 3,
    "start_time": "2023-06-16T05:07:31.310Z"
   },
   {
    "duration": 177,
    "start_time": "2023-06-16T05:07:31.315Z"
   },
   {
    "duration": 34,
    "start_time": "2023-06-16T05:07:31.494Z"
   },
   {
    "duration": 810,
    "start_time": "2023-06-16T05:07:31.530Z"
   },
   {
    "duration": 41,
    "start_time": "2023-06-16T05:07:32.342Z"
   },
   {
    "duration": 54,
    "start_time": "2023-06-16T05:07:32.385Z"
   },
   {
    "duration": 64,
    "start_time": "2023-06-16T05:07:32.442Z"
   },
   {
    "duration": 50,
    "start_time": "2023-06-16T05:07:32.508Z"
   },
   {
    "duration": 70,
    "start_time": "2023-06-16T05:07:32.560Z"
   },
   {
    "duration": 67,
    "start_time": "2023-06-16T05:07:32.632Z"
   },
   {
    "duration": 130,
    "start_time": "2023-06-16T05:07:32.703Z"
   },
   {
    "duration": 201,
    "start_time": "2023-06-16T05:07:32.836Z"
   },
   {
    "duration": 11,
    "start_time": "2023-06-16T05:07:33.038Z"
   },
   {
    "duration": 68,
    "start_time": "2023-06-16T05:07:33.051Z"
   },
   {
    "duration": 15,
    "start_time": "2023-06-16T05:07:33.121Z"
   },
   {
    "duration": 39,
    "start_time": "2023-06-16T05:07:33.138Z"
   },
   {
    "duration": 65,
    "start_time": "2023-06-16T05:07:33.181Z"
   },
   {
    "duration": 24,
    "start_time": "2023-06-16T05:07:48.513Z"
   },
   {
    "duration": 1768,
    "start_time": "2023-06-20T09:47:43.850Z"
   },
   {
    "duration": 15,
    "start_time": "2023-06-20T09:47:45.622Z"
   },
   {
    "duration": 185,
    "start_time": "2023-06-20T09:47:45.640Z"
   },
   {
    "duration": 47,
    "start_time": "2023-06-20T09:47:45.828Z"
   },
   {
    "duration": 881,
    "start_time": "2023-06-20T09:47:45.878Z"
   },
   {
    "duration": 26,
    "start_time": "2023-06-20T09:47:46.761Z"
   },
   {
    "duration": 13,
    "start_time": "2023-06-20T09:47:46.790Z"
   },
   {
    "duration": 54,
    "start_time": "2023-06-20T09:47:46.806Z"
   },
   {
    "duration": 19,
    "start_time": "2023-06-20T09:47:46.862Z"
   },
   {
    "duration": 51,
    "start_time": "2023-06-20T09:47:46.883Z"
   },
   {
    "duration": 3,
    "start_time": "2023-06-20T09:47:46.942Z"
   },
   {
    "duration": 25,
    "start_time": "2023-06-20T09:47:46.948Z"
   },
   {
    "duration": 12,
    "start_time": "2023-06-20T09:47:46.975Z"
   },
   {
    "duration": 25,
    "start_time": "2023-06-20T09:47:46.991Z"
   },
   {
    "duration": 35,
    "start_time": "2023-06-20T09:47:47.018Z"
   },
   {
    "duration": 18,
    "start_time": "2023-06-20T09:47:47.054Z"
   },
   {
    "duration": 53,
    "start_time": "2023-06-20T09:47:47.075Z"
   },
   {
    "duration": 142,
    "start_time": "2023-06-20T09:47:47.130Z"
   },
   {
    "duration": 101,
    "start_time": "2023-06-20T09:47:47.274Z"
   },
   {
    "duration": 386,
    "start_time": "2023-06-20T09:47:47.378Z"
   },
   {
    "duration": 58,
    "start_time": "2023-06-20T09:47:47.766Z"
   },
   {
    "duration": 170,
    "start_time": "2023-06-20T09:47:47.826Z"
   },
   {
    "duration": 871,
    "start_time": "2023-06-20T09:47:47.998Z"
   },
   {
    "duration": 289,
    "start_time": "2023-06-20T09:47:48.871Z"
   },
   {
    "duration": 15,
    "start_time": "2023-06-20T09:47:49.163Z"
   },
   {
    "duration": 175,
    "start_time": "2023-06-20T09:47:49.181Z"
   },
   {
    "duration": 102,
    "start_time": "2023-06-20T09:47:49.358Z"
   },
   {
    "duration": 304,
    "start_time": "2023-06-20T09:47:49.463Z"
   },
   {
    "duration": 3,
    "start_time": "2023-06-20T09:47:49.769Z"
   },
   {
    "duration": 36,
    "start_time": "2023-06-20T09:47:49.773Z"
   },
   {
    "duration": 11,
    "start_time": "2023-06-20T09:47:49.811Z"
   },
   {
    "duration": 185,
    "start_time": "2023-06-20T09:47:49.824Z"
   },
   {
    "duration": 2145,
    "start_time": "2023-06-20T09:47:50.012Z"
   },
   {
    "duration": 6317,
    "start_time": "2023-06-20T09:47:52.159Z"
   },
   {
    "duration": 691,
    "start_time": "2023-06-20T09:47:58.479Z"
   },
   {
    "duration": 1119,
    "start_time": "2023-06-20T09:47:59.173Z"
   },
   {
    "duration": 6214,
    "start_time": "2023-06-20T09:48:00.294Z"
   },
   {
    "duration": 5514,
    "start_time": "2023-06-20T09:48:06.511Z"
   },
   {
    "duration": 7,
    "start_time": "2023-06-20T09:48:12.028Z"
   },
   {
    "duration": 60,
    "start_time": "2023-06-20T09:48:12.037Z"
   },
   {
    "duration": 19,
    "start_time": "2023-06-20T09:48:12.104Z"
   },
   {
    "duration": 215,
    "start_time": "2023-06-20T09:48:12.125Z"
   },
   {
    "duration": 150,
    "start_time": "2023-06-20T09:48:12.342Z"
   },
   {
    "duration": 170,
    "start_time": "2023-06-20T09:48:12.496Z"
   },
   {
    "duration": 375,
    "start_time": "2023-06-20T09:48:12.669Z"
   },
   {
    "duration": 5,
    "start_time": "2023-06-20T09:48:13.055Z"
   },
   {
    "duration": 86,
    "start_time": "2023-06-20T09:48:13.062Z"
   },
   {
    "duration": 40,
    "start_time": "2023-06-20T09:48:13.151Z"
   },
   {
    "duration": 210,
    "start_time": "2023-06-20T09:48:13.194Z"
   },
   {
    "duration": 925,
    "start_time": "2023-06-20T09:48:13.406Z"
   },
   {
    "duration": 3892,
    "start_time": "2023-06-20T09:48:14.334Z"
   },
   {
    "duration": 611,
    "start_time": "2023-06-20T09:48:18.228Z"
   },
   {
    "duration": 715,
    "start_time": "2023-06-20T09:48:18.841Z"
   },
   {
    "duration": 4389,
    "start_time": "2023-06-20T09:48:19.559Z"
   },
   {
    "duration": 3532,
    "start_time": "2023-06-20T09:48:23.951Z"
   },
   {
    "duration": 0,
    "start_time": "2023-06-20T09:48:27.486Z"
   },
   {
    "duration": 0,
    "start_time": "2023-06-20T09:48:27.487Z"
   },
   {
    "duration": 0,
    "start_time": "2023-06-20T09:48:27.489Z"
   },
   {
    "duration": 0,
    "start_time": "2023-06-20T09:48:27.490Z"
   },
   {
    "duration": 0,
    "start_time": "2023-06-20T09:48:27.492Z"
   },
   {
    "duration": 0,
    "start_time": "2023-06-20T09:48:27.493Z"
   },
   {
    "duration": 0,
    "start_time": "2023-06-20T09:48:27.494Z"
   },
   {
    "duration": 1790,
    "start_time": "2023-06-20T10:55:53.782Z"
   },
   {
    "duration": 14,
    "start_time": "2023-06-20T10:55:55.574Z"
   },
   {
    "duration": 56,
    "start_time": "2023-06-20T10:55:55.590Z"
   },
   {
    "duration": 78,
    "start_time": "2023-06-20T10:55:55.649Z"
   },
   {
    "duration": 679,
    "start_time": "2023-06-20T10:55:55.731Z"
   },
   {
    "duration": 20,
    "start_time": "2023-06-20T10:55:56.414Z"
   },
   {
    "duration": 29,
    "start_time": "2023-06-20T10:55:56.436Z"
   },
   {
    "duration": 22,
    "start_time": "2023-06-20T10:55:56.467Z"
   },
   {
    "duration": 23,
    "start_time": "2023-06-20T10:55:56.492Z"
   },
   {
    "duration": 7,
    "start_time": "2023-06-20T10:55:56.520Z"
   },
   {
    "duration": 12,
    "start_time": "2023-06-20T10:55:56.529Z"
   },
   {
    "duration": 12,
    "start_time": "2023-06-20T10:55:56.543Z"
   },
   {
    "duration": 28,
    "start_time": "2023-06-20T10:55:56.561Z"
   },
   {
    "duration": 6,
    "start_time": "2023-06-20T10:55:56.616Z"
   },
   {
    "duration": 26,
    "start_time": "2023-06-20T10:55:56.625Z"
   },
   {
    "duration": 10,
    "start_time": "2023-06-20T10:55:56.654Z"
   },
   {
    "duration": 45,
    "start_time": "2023-06-20T10:55:56.668Z"
   },
   {
    "duration": 158,
    "start_time": "2023-06-20T10:55:56.715Z"
   },
   {
    "duration": 92,
    "start_time": "2023-06-20T10:55:56.879Z"
   },
   {
    "duration": 413,
    "start_time": "2023-06-20T10:55:56.976Z"
   },
   {
    "duration": 78,
    "start_time": "2023-06-20T10:55:57.391Z"
   },
   {
    "duration": 232,
    "start_time": "2023-06-20T10:55:57.479Z"
   },
   {
    "duration": 1074,
    "start_time": "2023-06-20T10:55:57.714Z"
   },
   {
    "duration": 240,
    "start_time": "2023-06-20T10:55:58.791Z"
   },
   {
    "duration": 17,
    "start_time": "2023-06-20T10:55:59.033Z"
   },
   {
    "duration": 156,
    "start_time": "2023-06-20T10:55:59.062Z"
   },
   {
    "duration": 81,
    "start_time": "2023-06-20T10:55:59.220Z"
   },
   {
    "duration": 380,
    "start_time": "2023-06-20T10:55:59.308Z"
   },
   {
    "duration": 3,
    "start_time": "2023-06-20T10:55:59.691Z"
   },
   {
    "duration": 46,
    "start_time": "2023-06-20T10:55:59.696Z"
   },
   {
    "duration": 18,
    "start_time": "2023-06-20T10:55:59.745Z"
   },
   {
    "duration": 169,
    "start_time": "2023-06-20T10:55:59.765Z"
   },
   {
    "duration": 2586,
    "start_time": "2023-06-20T10:55:59.937Z"
   },
   {
    "duration": 8269,
    "start_time": "2023-06-20T10:56:02.526Z"
   },
   {
    "duration": 1045,
    "start_time": "2023-06-20T10:56:10.798Z"
   },
   {
    "duration": 1095,
    "start_time": "2023-06-20T10:56:11.846Z"
   },
   {
    "duration": 7515,
    "start_time": "2023-06-20T10:56:12.944Z"
   },
   {
    "duration": 6118,
    "start_time": "2023-06-20T10:56:20.461Z"
   },
   {
    "duration": 7,
    "start_time": "2023-06-20T10:56:26.581Z"
   },
   {
    "duration": 36,
    "start_time": "2023-06-20T10:56:26.590Z"
   },
   {
    "duration": 14,
    "start_time": "2023-06-20T10:56:26.632Z"
   },
   {
    "duration": 181,
    "start_time": "2023-06-20T10:56:26.657Z"
   },
   {
    "duration": 151,
    "start_time": "2023-06-20T10:56:26.840Z"
   },
   {
    "duration": 82,
    "start_time": "2023-06-20T10:56:26.993Z"
   },
   {
    "duration": 388,
    "start_time": "2023-06-20T10:56:27.078Z"
   },
   {
    "duration": 20,
    "start_time": "2023-06-20T10:56:27.473Z"
   },
   {
    "duration": 27,
    "start_time": "2023-06-20T10:56:27.504Z"
   },
   {
    "duration": 34,
    "start_time": "2023-06-20T10:56:27.536Z"
   },
   {
    "duration": 256,
    "start_time": "2023-06-20T10:56:27.577Z"
   },
   {
    "duration": 1270,
    "start_time": "2023-06-20T10:56:27.836Z"
   },
   {
    "duration": 4598,
    "start_time": "2023-06-20T10:56:29.109Z"
   },
   {
    "duration": 560,
    "start_time": "2023-06-20T10:56:33.714Z"
   },
   {
    "duration": 597,
    "start_time": "2023-06-20T10:56:34.276Z"
   },
   {
    "duration": 4973,
    "start_time": "2023-06-20T10:56:34.875Z"
   },
   {
    "duration": 4550,
    "start_time": "2023-06-20T10:56:39.852Z"
   },
   {
    "duration": 8,
    "start_time": "2023-06-20T10:56:44.412Z"
   },
   {
    "duration": 139,
    "start_time": "2023-06-20T10:56:44.422Z"
   },
   {
    "duration": 27,
    "start_time": "2023-06-20T10:56:44.564Z"
   },
   {
    "duration": 243,
    "start_time": "2023-06-20T10:56:44.594Z"
   },
   {
    "duration": 47,
    "start_time": "2023-06-20T10:56:44.840Z"
   },
   {
    "duration": 231,
    "start_time": "2023-06-20T10:56:44.889Z"
   },
   {
    "duration": 2868,
    "start_time": "2023-06-20T12:19:15.602Z"
   },
   {
    "duration": 18,
    "start_time": "2023-06-20T12:19:18.472Z"
   },
   {
    "duration": 151,
    "start_time": "2023-06-20T12:19:18.492Z"
   },
   {
    "duration": 71,
    "start_time": "2023-06-20T12:19:18.646Z"
   },
   {
    "duration": 849,
    "start_time": "2023-06-20T12:19:18.719Z"
   },
   {
    "duration": 21,
    "start_time": "2023-06-20T12:19:19.570Z"
   },
   {
    "duration": 32,
    "start_time": "2023-06-20T12:19:19.594Z"
   },
   {
    "duration": 100,
    "start_time": "2023-06-20T12:19:19.628Z"
   },
   {
    "duration": 74,
    "start_time": "2023-06-20T12:19:19.733Z"
   },
   {
    "duration": 18,
    "start_time": "2023-06-20T12:19:19.809Z"
   },
   {
    "duration": 12,
    "start_time": "2023-06-20T12:19:19.830Z"
   },
   {
    "duration": 51,
    "start_time": "2023-06-20T12:19:19.844Z"
   },
   {
    "duration": 40,
    "start_time": "2023-06-20T12:19:19.897Z"
   },
   {
    "duration": 64,
    "start_time": "2023-06-20T12:19:19.940Z"
   },
   {
    "duration": 43,
    "start_time": "2023-06-20T12:19:20.006Z"
   },
   {
    "duration": 63,
    "start_time": "2023-06-20T12:19:20.051Z"
   },
   {
    "duration": 70,
    "start_time": "2023-06-20T12:19:20.116Z"
   },
   {
    "duration": 185,
    "start_time": "2023-06-20T12:19:20.188Z"
   },
   {
    "duration": 182,
    "start_time": "2023-06-20T12:19:20.374Z"
   },
   {
    "duration": 393,
    "start_time": "2023-06-20T12:19:20.559Z"
   },
   {
    "duration": 60,
    "start_time": "2023-06-20T12:19:20.954Z"
   },
   {
    "duration": 169,
    "start_time": "2023-06-20T12:19:21.016Z"
   },
   {
    "duration": 1214,
    "start_time": "2023-06-20T12:19:21.187Z"
   },
   {
    "duration": 218,
    "start_time": "2023-06-20T12:19:22.404Z"
   },
   {
    "duration": 15,
    "start_time": "2023-06-20T12:19:22.624Z"
   },
   {
    "duration": 176,
    "start_time": "2023-06-20T12:19:22.641Z"
   },
   {
    "duration": 53,
    "start_time": "2023-06-20T12:19:22.820Z"
   },
   {
    "duration": 453,
    "start_time": "2023-06-20T12:19:22.879Z"
   },
   {
    "duration": 4,
    "start_time": "2023-06-20T12:19:23.334Z"
   },
   {
    "duration": 95,
    "start_time": "2023-06-20T12:19:23.341Z"
   },
   {
    "duration": 17,
    "start_time": "2023-06-20T12:19:23.438Z"
   },
   {
    "duration": 194,
    "start_time": "2023-06-20T12:19:23.457Z"
   },
   {
    "duration": 2737,
    "start_time": "2023-06-20T12:19:23.656Z"
   },
   {
    "duration": 7808,
    "start_time": "2023-06-20T12:19:26.395Z"
   },
   {
    "duration": 711,
    "start_time": "2023-06-20T12:19:34.205Z"
   },
   {
    "duration": 877,
    "start_time": "2023-06-20T12:19:34.918Z"
   },
   {
    "duration": 6761,
    "start_time": "2023-06-20T12:19:35.802Z"
   },
   {
    "duration": 5792,
    "start_time": "2023-06-20T12:19:42.565Z"
   },
   {
    "duration": 7,
    "start_time": "2023-06-20T12:19:48.366Z"
   },
   {
    "duration": 61,
    "start_time": "2023-06-20T12:19:48.375Z"
   },
   {
    "duration": 17,
    "start_time": "2023-06-20T12:19:48.442Z"
   },
   {
    "duration": 201,
    "start_time": "2023-06-20T12:19:48.466Z"
   },
   {
    "duration": 154,
    "start_time": "2023-06-20T12:19:48.673Z"
   },
   {
    "duration": 125,
    "start_time": "2023-06-20T12:19:48.831Z"
   },
   {
    "duration": 406,
    "start_time": "2023-06-20T12:19:48.963Z"
   },
   {
    "duration": 7,
    "start_time": "2023-06-20T12:19:49.375Z"
   },
   {
    "duration": 63,
    "start_time": "2023-06-20T12:19:49.383Z"
   },
   {
    "duration": 80,
    "start_time": "2023-06-20T12:19:49.449Z"
   },
   {
    "duration": 183,
    "start_time": "2023-06-20T12:19:49.532Z"
   },
   {
    "duration": 985,
    "start_time": "2023-06-20T12:19:49.717Z"
   },
   {
    "duration": 3612,
    "start_time": "2023-06-20T12:19:50.714Z"
   },
   {
    "duration": 544,
    "start_time": "2023-06-20T12:19:54.329Z"
   },
   {
    "duration": 627,
    "start_time": "2023-06-20T12:19:54.884Z"
   },
   {
    "duration": 4790,
    "start_time": "2023-06-20T12:19:55.518Z"
   },
   {
    "duration": 3882,
    "start_time": "2023-06-20T12:20:00.312Z"
   },
   {
    "duration": 20,
    "start_time": "2023-06-20T12:20:04.196Z"
   },
   {
    "duration": 122,
    "start_time": "2023-06-20T12:20:04.227Z"
   },
   {
    "duration": 25,
    "start_time": "2023-06-20T12:20:04.351Z"
   },
   {
    "duration": 235,
    "start_time": "2023-06-20T12:20:04.378Z"
   },
   {
    "duration": 37,
    "start_time": "2023-06-20T12:20:04.615Z"
   },
   {
    "duration": 181,
    "start_time": "2023-06-20T12:20:04.654Z"
   },
   {
    "duration": 47,
    "start_time": "2023-06-21T03:59:23.778Z"
   },
   {
    "duration": 1686,
    "start_time": "2023-06-21T03:59:43.610Z"
   },
   {
    "duration": 9,
    "start_time": "2023-06-21T03:59:45.298Z"
   },
   {
    "duration": 152,
    "start_time": "2023-06-21T03:59:45.309Z"
   },
   {
    "duration": 29,
    "start_time": "2023-06-21T03:59:45.464Z"
   },
   {
    "duration": 596,
    "start_time": "2023-06-21T03:59:45.495Z"
   },
   {
    "duration": 17,
    "start_time": "2023-06-21T03:59:46.093Z"
   },
   {
    "duration": 20,
    "start_time": "2023-06-21T03:59:46.112Z"
   },
   {
    "duration": 28,
    "start_time": "2023-06-21T03:59:46.134Z"
   },
   {
    "duration": 33,
    "start_time": "2023-06-21T03:59:46.164Z"
   },
   {
    "duration": 26,
    "start_time": "2023-06-21T03:59:46.200Z"
   },
   {
    "duration": 40,
    "start_time": "2023-06-21T03:59:46.227Z"
   },
   {
    "duration": 26,
    "start_time": "2023-06-21T03:59:46.269Z"
   },
   {
    "duration": 29,
    "start_time": "2023-06-21T03:59:46.297Z"
   },
   {
    "duration": 23,
    "start_time": "2023-06-21T03:59:46.328Z"
   },
   {
    "duration": 26,
    "start_time": "2023-06-21T03:59:46.354Z"
   },
   {
    "duration": 13,
    "start_time": "2023-06-21T03:59:46.382Z"
   },
   {
    "duration": 34,
    "start_time": "2023-06-21T03:59:46.397Z"
   },
   {
    "duration": 105,
    "start_time": "2023-06-21T03:59:46.433Z"
   },
   {
    "duration": 40,
    "start_time": "2023-06-21T03:59:46.540Z"
   },
   {
    "duration": 399,
    "start_time": "2023-06-21T03:59:46.582Z"
   },
   {
    "duration": 39,
    "start_time": "2023-06-21T03:59:46.983Z"
   },
   {
    "duration": 131,
    "start_time": "2023-06-21T03:59:47.024Z"
   },
   {
    "duration": 766,
    "start_time": "2023-06-21T03:59:47.156Z"
   },
   {
    "duration": 161,
    "start_time": "2023-06-21T03:59:47.924Z"
   },
   {
    "duration": 9,
    "start_time": "2023-06-21T03:59:48.086Z"
   },
   {
    "duration": 105,
    "start_time": "2023-06-21T03:59:48.096Z"
   },
   {
    "duration": 75,
    "start_time": "2023-06-21T03:59:48.202Z"
   },
   {
    "duration": 390,
    "start_time": "2023-06-21T03:59:48.288Z"
   },
   {
    "duration": 3,
    "start_time": "2023-06-21T03:59:48.680Z"
   },
   {
    "duration": 27,
    "start_time": "2023-06-21T03:59:48.684Z"
   },
   {
    "duration": 9,
    "start_time": "2023-06-21T03:59:48.713Z"
   },
   {
    "duration": 127,
    "start_time": "2023-06-21T03:59:48.724Z"
   },
   {
    "duration": 1890,
    "start_time": "2023-06-21T03:59:48.852Z"
   },
   {
    "duration": 5748,
    "start_time": "2023-06-21T03:59:50.744Z"
   },
   {
    "duration": 577,
    "start_time": "2023-06-21T03:59:56.494Z"
   },
   {
    "duration": 662,
    "start_time": "2023-06-21T03:59:57.074Z"
   },
   {
    "duration": 5178,
    "start_time": "2023-06-21T03:59:57.738Z"
   },
   {
    "duration": 4574,
    "start_time": "2023-06-21T04:00:02.918Z"
   },
   {
    "duration": 6,
    "start_time": "2023-06-21T04:00:07.494Z"
   },
   {
    "duration": 25,
    "start_time": "2023-06-21T04:00:07.501Z"
   },
   {
    "duration": 11,
    "start_time": "2023-06-21T04:00:07.528Z"
   },
   {
    "duration": 151,
    "start_time": "2023-06-21T04:00:07.541Z"
   },
   {
    "duration": 118,
    "start_time": "2023-06-21T04:00:07.694Z"
   },
   {
    "duration": 67,
    "start_time": "2023-06-21T04:00:07.814Z"
   },
   {
    "duration": 400,
    "start_time": "2023-06-21T04:00:07.883Z"
   },
   {
    "duration": 2,
    "start_time": "2023-06-21T04:00:08.285Z"
   },
   {
    "duration": 25,
    "start_time": "2023-06-21T04:00:08.289Z"
   },
   {
    "duration": 43,
    "start_time": "2023-06-21T04:00:08.315Z"
   },
   {
    "duration": 116,
    "start_time": "2023-06-21T04:00:08.360Z"
   },
   {
    "duration": 714,
    "start_time": "2023-06-21T04:00:08.478Z"
   },
   {
    "duration": 2465,
    "start_time": "2023-06-21T04:00:09.193Z"
   },
   {
    "duration": 393,
    "start_time": "2023-06-21T04:00:11.660Z"
   },
   {
    "duration": 431,
    "start_time": "2023-06-21T04:00:12.055Z"
   },
   {
    "duration": 3401,
    "start_time": "2023-06-21T04:00:12.488Z"
   },
   {
    "duration": 2880,
    "start_time": "2023-06-21T04:00:15.890Z"
   },
   {
    "duration": 4,
    "start_time": "2023-06-21T04:00:18.775Z"
   },
   {
    "duration": 35,
    "start_time": "2023-06-21T04:00:18.781Z"
   },
   {
    "duration": 10,
    "start_time": "2023-06-21T04:00:18.817Z"
   },
   {
    "duration": 153,
    "start_time": "2023-06-21T04:00:18.828Z"
   },
   {
    "duration": 24,
    "start_time": "2023-06-21T04:00:18.983Z"
   },
   {
    "duration": 147,
    "start_time": "2023-06-21T04:00:19.008Z"
   },
   {
    "duration": 19,
    "start_time": "2023-06-21T04:03:57.807Z"
   },
   {
    "duration": 8,
    "start_time": "2023-06-21T04:04:30.758Z"
   },
   {
    "duration": 4,
    "start_time": "2023-06-21T04:04:38.491Z"
   },
   {
    "duration": 32,
    "start_time": "2023-06-21T04:04:38.496Z"
   },
   {
    "duration": 76,
    "start_time": "2023-06-21T04:04:38.529Z"
   },
   {
    "duration": 25,
    "start_time": "2023-06-21T04:04:38.607Z"
   },
   {
    "duration": 585,
    "start_time": "2023-06-21T04:04:38.634Z"
   },
   {
    "duration": 18,
    "start_time": "2023-06-21T04:04:42.814Z"
   },
   {
    "duration": 526,
    "start_time": "2023-06-21T04:05:51.502Z"
   },
   {
    "duration": 637,
    "start_time": "2023-06-21T04:06:22.879Z"
   },
   {
    "duration": 535,
    "start_time": "2023-06-21T04:09:04.189Z"
   },
   {
    "duration": 559,
    "start_time": "2023-06-21T04:09:17.149Z"
   },
   {
    "duration": 557,
    "start_time": "2023-06-21T04:09:37.445Z"
   },
   {
    "duration": 589,
    "start_time": "2023-06-21T04:09:46.237Z"
   },
   {
    "duration": 576,
    "start_time": "2023-06-21T04:10:34.253Z"
   },
   {
    "duration": 3,
    "start_time": "2023-06-21T04:13:38.796Z"
   },
   {
    "duration": 4,
    "start_time": "2023-06-21T04:17:12.509Z"
   },
   {
    "duration": 19,
    "start_time": "2023-06-21T04:17:12.515Z"
   },
   {
    "duration": 50,
    "start_time": "2023-06-21T04:17:12.536Z"
   },
   {
    "duration": 24,
    "start_time": "2023-06-21T04:17:12.589Z"
   },
   {
    "duration": 601,
    "start_time": "2023-06-21T04:17:12.615Z"
   },
   {
    "duration": 17,
    "start_time": "2023-06-21T04:17:13.217Z"
   },
   {
    "duration": 22,
    "start_time": "2023-06-21T04:17:13.235Z"
   },
   {
    "duration": 28,
    "start_time": "2023-06-21T04:17:13.259Z"
   },
   {
    "duration": 20,
    "start_time": "2023-06-21T04:17:13.290Z"
   },
   {
    "duration": 14,
    "start_time": "2023-06-21T04:17:13.311Z"
   },
   {
    "duration": 27,
    "start_time": "2023-06-21T04:17:13.327Z"
   },
   {
    "duration": 27,
    "start_time": "2023-06-21T04:17:13.356Z"
   },
   {
    "duration": 7,
    "start_time": "2023-06-21T04:17:13.385Z"
   },
   {
    "duration": 27,
    "start_time": "2023-06-21T04:17:13.393Z"
   },
   {
    "duration": 29,
    "start_time": "2023-06-21T04:17:13.422Z"
   },
   {
    "duration": 24,
    "start_time": "2023-06-21T04:17:13.453Z"
   },
   {
    "duration": 118,
    "start_time": "2023-06-21T04:17:13.479Z"
   },
   {
    "duration": 115,
    "start_time": "2023-06-21T04:17:13.599Z"
   },
   {
    "duration": 66,
    "start_time": "2023-06-21T04:17:13.716Z"
   },
   {
    "duration": 379,
    "start_time": "2023-06-21T04:17:13.784Z"
   },
   {
    "duration": 40,
    "start_time": "2023-06-21T04:17:14.175Z"
   },
   {
    "duration": 125,
    "start_time": "2023-06-21T04:17:14.216Z"
   },
   {
    "duration": 707,
    "start_time": "2023-06-21T04:17:14.343Z"
   },
   {
    "duration": 197,
    "start_time": "2023-06-21T04:17:15.054Z"
   },
   {
    "duration": 9,
    "start_time": "2023-06-21T04:17:15.253Z"
   },
   {
    "duration": 109,
    "start_time": "2023-06-21T04:17:15.264Z"
   },
   {
    "duration": 30,
    "start_time": "2023-06-21T04:17:15.374Z"
   },
   {
    "duration": 403,
    "start_time": "2023-06-21T04:17:15.484Z"
   },
   {
    "duration": 2,
    "start_time": "2023-06-21T04:17:15.889Z"
   },
   {
    "duration": 28,
    "start_time": "2023-06-21T04:17:15.893Z"
   },
   {
    "duration": 10,
    "start_time": "2023-06-21T04:17:15.922Z"
   },
   {
    "duration": 122,
    "start_time": "2023-06-21T04:17:15.933Z"
   },
   {
    "duration": 1951,
    "start_time": "2023-06-21T04:17:16.057Z"
   },
   {
    "duration": 5668,
    "start_time": "2023-06-21T04:17:18.009Z"
   },
   {
    "duration": 578,
    "start_time": "2023-06-21T04:17:23.679Z"
   },
   {
    "duration": 665,
    "start_time": "2023-06-21T04:17:24.259Z"
   },
   {
    "duration": 4840,
    "start_time": "2023-06-21T04:17:24.925Z"
   },
   {
    "duration": 4488,
    "start_time": "2023-06-21T04:17:29.767Z"
   },
   {
    "duration": 5,
    "start_time": "2023-06-21T04:17:34.256Z"
   },
   {
    "duration": 35,
    "start_time": "2023-06-21T04:17:34.262Z"
   },
   {
    "duration": 14,
    "start_time": "2023-06-21T04:17:34.299Z"
   },
   {
    "duration": 129,
    "start_time": "2023-06-21T04:17:34.315Z"
   },
   {
    "duration": 109,
    "start_time": "2023-06-21T04:17:34.446Z"
   },
   {
    "duration": 122,
    "start_time": "2023-06-21T04:17:34.557Z"
   },
   {
    "duration": 400,
    "start_time": "2023-06-21T04:17:34.683Z"
   },
   {
    "duration": 3,
    "start_time": "2023-06-21T04:17:35.084Z"
   },
   {
    "duration": 31,
    "start_time": "2023-06-21T04:17:35.088Z"
   },
   {
    "duration": 14,
    "start_time": "2023-06-21T04:17:35.121Z"
   },
   {
    "duration": 121,
    "start_time": "2023-06-21T04:17:35.137Z"
   },
   {
    "duration": 728,
    "start_time": "2023-06-21T04:17:35.260Z"
   },
   {
    "duration": 2426,
    "start_time": "2023-06-21T04:17:35.989Z"
   },
   {
    "duration": 385,
    "start_time": "2023-06-21T04:17:38.416Z"
   },
   {
    "duration": 448,
    "start_time": "2023-06-21T04:17:38.803Z"
   },
   {
    "duration": 3460,
    "start_time": "2023-06-21T04:17:39.252Z"
   },
   {
    "duration": 2822,
    "start_time": "2023-06-21T04:17:42.714Z"
   },
   {
    "duration": 6,
    "start_time": "2023-06-21T04:17:45.538Z"
   },
   {
    "duration": 60,
    "start_time": "2023-06-21T04:17:45.545Z"
   },
   {
    "duration": 11,
    "start_time": "2023-06-21T04:17:45.607Z"
   },
   {
    "duration": 199,
    "start_time": "2023-06-21T04:17:45.620Z"
   },
   {
    "duration": 25,
    "start_time": "2023-06-21T04:17:45.821Z"
   },
   {
    "duration": 142,
    "start_time": "2023-06-21T04:17:45.848Z"
   },
   {
    "duration": 397932,
    "start_time": "2023-06-21T04:20:49.252Z"
   },
   {
    "duration": 47902,
    "start_time": "2023-06-21T04:28:23.515Z"
   },
   {
    "duration": 76,
    "start_time": "2023-06-21T04:32:12.152Z"
   },
   {
    "duration": 49090,
    "start_time": "2023-06-21T04:32:18.704Z"
   },
   {
    "duration": 18,
    "start_time": "2023-06-21T04:33:11.785Z"
   },
   {
    "duration": 127,
    "start_time": "2023-06-21T04:33:23.991Z"
   },
   {
    "duration": 3,
    "start_time": "2023-06-21T04:37:21.631Z"
   },
   {
    "duration": 56570,
    "start_time": "2023-06-21T04:37:24.072Z"
   },
   {
    "duration": 83780,
    "start_time": "2023-06-21T04:38:21.800Z"
   },
   {
    "duration": 134,
    "start_time": "2023-06-21T04:39:45.582Z"
   },
   {
    "duration": 13,
    "start_time": "2023-06-21T04:39:53.582Z"
   },
   {
    "duration": 119,
    "start_time": "2023-06-21T04:39:56.615Z"
   },
   {
    "duration": 58,
    "start_time": "2023-06-21T04:40:11.894Z"
   },
   {
    "duration": 288,
    "start_time": "2023-06-21T04:40:21.400Z"
   },
   {
    "duration": 2,
    "start_time": "2023-06-21T04:40:39.103Z"
   },
   {
    "duration": 114,
    "start_time": "2023-06-21T04:40:56.035Z"
   },
   {
    "duration": 202,
    "start_time": "2023-06-21T04:42:56.575Z"
   },
   {
    "duration": 314,
    "start_time": "2023-06-21T04:42:59.278Z"
   },
   {
    "duration": 7549,
    "start_time": "2023-06-21T04:44:09.351Z"
   },
   {
    "duration": 6250,
    "start_time": "2023-06-21T04:44:32.663Z"
   },
   {
    "duration": 86644,
    "start_time": "2023-06-21T04:49:05.028Z"
   },
   {
    "duration": 344,
    "start_time": "2023-06-21T04:51:00.069Z"
   },
   {
    "duration": 363,
    "start_time": "2023-06-21T04:51:05.792Z"
   },
   {
    "duration": 4326,
    "start_time": "2023-06-21T04:51:16.352Z"
   },
   {
    "duration": 88595,
    "start_time": "2023-06-21T04:52:26.246Z"
   },
   {
    "duration": 370,
    "start_time": "2023-06-21T04:54:40.979Z"
   },
   {
    "duration": 385,
    "start_time": "2023-06-21T04:54:43.540Z"
   },
   {
    "duration": 2930,
    "start_time": "2023-06-21T04:54:48.597Z"
   },
   {
    "duration": 5,
    "start_time": "2023-06-21T04:55:10.367Z"
   },
   {
    "duration": 85762,
    "start_time": "2023-06-21T04:56:18.453Z"
   },
   {
    "duration": 14,
    "start_time": "2023-06-21T04:57:53.106Z"
   },
   {
    "duration": 12,
    "start_time": "2023-06-21T04:57:58.711Z"
   },
   {
    "duration": 158,
    "start_time": "2023-06-21T04:58:02.450Z"
   },
   {
    "duration": 14,
    "start_time": "2023-06-21T04:59:41.887Z"
   },
   {
    "duration": 10,
    "start_time": "2023-06-21T04:59:43.588Z"
   },
   {
    "duration": 122,
    "start_time": "2023-06-21T04:59:44.724Z"
   },
   {
    "duration": 49399,
    "start_time": "2023-06-21T04:59:58.742Z"
   },
   {
    "duration": 5,
    "start_time": "2023-06-21T05:06:17.062Z"
   },
   {
    "duration": 10,
    "start_time": "2023-06-21T05:06:18.339Z"
   },
   {
    "duration": 118,
    "start_time": "2023-06-21T05:06:19.363Z"
   },
   {
    "duration": 64942,
    "start_time": "2023-06-21T05:07:26.444Z"
   },
   {
    "duration": 5,
    "start_time": "2023-06-21T05:08:36.884Z"
   },
   {
    "duration": 11,
    "start_time": "2023-06-21T05:08:37.828Z"
   },
   {
    "duration": 132,
    "start_time": "2023-06-21T05:08:39.675Z"
   },
   {
    "duration": 20,
    "start_time": "2023-06-21T05:09:17.064Z"
   },
   {
    "duration": 10,
    "start_time": "2023-06-21T05:09:17.836Z"
   },
   {
    "duration": 129,
    "start_time": "2023-06-21T05:09:18.908Z"
   },
   {
    "duration": 46,
    "start_time": "2023-06-21T05:09:37.932Z"
   },
   {
    "duration": 257,
    "start_time": "2023-06-21T05:09:40.551Z"
   },
   {
    "duration": 5050,
    "start_time": "2023-06-21T05:13:49.475Z"
   },
   {
    "duration": 24222,
    "start_time": "2023-06-21T05:14:02.659Z"
   },
   {
    "duration": 5,
    "start_time": "2023-06-21T05:14:35.523Z"
   },
   {
    "duration": 14,
    "start_time": "2023-06-21T05:14:42.739Z"
   },
   {
    "duration": 147,
    "start_time": "2023-06-21T05:14:46.379Z"
   },
   {
    "duration": 89332,
    "start_time": "2023-06-21T05:16:16.617Z"
   },
   {
    "duration": 3,
    "start_time": "2023-06-21T05:17:45.951Z"
   },
   {
    "duration": 15,
    "start_time": "2023-06-21T05:17:45.955Z"
   },
   {
    "duration": 17,
    "start_time": "2023-06-21T05:17:45.975Z"
   },
   {
    "duration": 14,
    "start_time": "2023-06-21T05:17:45.993Z"
   },
   {
    "duration": 36,
    "start_time": "2023-06-21T05:17:46.008Z"
   },
   {
    "duration": 37719,
    "start_time": "2023-06-21T05:18:04.060Z"
   },
   {
    "duration": 9,
    "start_time": "2023-06-21T05:20:21.938Z"
   },
   {
    "duration": 12,
    "start_time": "2023-06-21T05:20:23.018Z"
   },
   {
    "duration": 127,
    "start_time": "2023-06-21T05:20:24.611Z"
   },
   {
    "duration": 22,
    "start_time": "2023-06-21T05:20:52.802Z"
   },
   {
    "duration": 142,
    "start_time": "2023-06-21T05:20:55.675Z"
   },
   {
    "duration": 73,
    "start_time": "2023-06-21T05:21:25.403Z"
   },
   {
    "duration": 257,
    "start_time": "2023-06-21T05:21:35.338Z"
   },
   {
    "duration": 25,
    "start_time": "2023-06-21T05:26:28.807Z"
   },
   {
    "duration": 121,
    "start_time": "2023-06-21T05:26:30.865Z"
   },
   {
    "duration": 4,
    "start_time": "2023-06-21T05:31:59.598Z"
   },
   {
    "duration": 8,
    "start_time": "2023-06-21T05:31:59.604Z"
   },
   {
    "duration": 54,
    "start_time": "2023-06-21T05:31:59.613Z"
   },
   {
    "duration": 21,
    "start_time": "2023-06-21T05:31:59.669Z"
   },
   {
    "duration": 558,
    "start_time": "2023-06-21T05:31:59.693Z"
   },
   {
    "duration": 25,
    "start_time": "2023-06-21T05:32:00.253Z"
   },
   {
    "duration": 39,
    "start_time": "2023-06-21T05:32:00.280Z"
   },
   {
    "duration": 54,
    "start_time": "2023-06-21T05:32:00.321Z"
   },
   {
    "duration": 58,
    "start_time": "2023-06-21T05:32:00.377Z"
   },
   {
    "duration": 28,
    "start_time": "2023-06-21T05:32:00.437Z"
   },
   {
    "duration": 42,
    "start_time": "2023-06-21T05:32:00.467Z"
   },
   {
    "duration": 31,
    "start_time": "2023-06-21T05:32:00.511Z"
   },
   {
    "duration": 68,
    "start_time": "2023-06-21T05:32:00.544Z"
   },
   {
    "duration": 45,
    "start_time": "2023-06-21T05:32:00.615Z"
   },
   {
    "duration": 58,
    "start_time": "2023-06-21T05:32:00.662Z"
   },
   {
    "duration": 56,
    "start_time": "2023-06-21T05:32:00.723Z"
   },
   {
    "duration": 161,
    "start_time": "2023-06-21T05:32:00.781Z"
   },
   {
    "duration": 142,
    "start_time": "2023-06-21T05:32:00.944Z"
   },
   {
    "duration": 102,
    "start_time": "2023-06-21T05:32:01.088Z"
   },
   {
    "duration": 308,
    "start_time": "2023-06-21T05:32:01.276Z"
   },
   {
    "duration": 2,
    "start_time": "2023-06-21T05:32:01.586Z"
   },
   {
    "duration": 50287,
    "start_time": "2023-06-21T05:32:01.590Z"
   },
   {
    "duration": 12,
    "start_time": "2023-06-21T05:32:51.879Z"
   },
   {
    "duration": 133,
    "start_time": "2023-06-21T05:32:51.892Z"
   },
   {
    "duration": 2,
    "start_time": "2023-06-21T05:32:52.027Z"
   },
   {
    "duration": 86025,
    "start_time": "2023-06-21T05:32:52.031Z"
   },
   {
    "duration": 60,
    "start_time": "2023-06-21T05:34:18.058Z"
   },
   {
    "duration": 163,
    "start_time": "2023-06-21T05:34:18.120Z"
   },
   {
    "duration": 10,
    "start_time": "2023-06-21T05:34:18.285Z"
   },
   {
    "duration": 130,
    "start_time": "2023-06-21T05:34:18.297Z"
   },
   {
    "duration": 55,
    "start_time": "2023-06-21T05:34:18.429Z"
   },
   {
    "duration": 374,
    "start_time": "2023-06-21T05:34:18.488Z"
   },
   {
    "duration": 64881,
    "start_time": "2023-06-21T05:34:18.863Z"
   },
   {
    "duration": 5,
    "start_time": "2023-06-21T05:35:23.745Z"
   },
   {
    "duration": 26,
    "start_time": "2023-06-21T05:35:23.752Z"
   },
   {
    "duration": 156,
    "start_time": "2023-06-21T05:35:23.780Z"
   },
   {
    "duration": 3,
    "start_time": "2023-06-21T05:35:23.937Z"
   },
   {
    "duration": 90230,
    "start_time": "2023-06-21T05:35:23.942Z"
   },
   {
    "duration": 3,
    "start_time": "2023-06-21T05:36:54.176Z"
   },
   {
    "duration": 34,
    "start_time": "2023-06-21T05:36:54.181Z"
   },
   {
    "duration": 22,
    "start_time": "2023-06-21T05:36:54.220Z"
   },
   {
    "duration": 16,
    "start_time": "2023-06-21T05:36:54.244Z"
   },
   {
    "duration": 27,
    "start_time": "2023-06-21T05:36:54.262Z"
   },
   {
    "duration": 31,
    "start_time": "2023-06-21T05:36:54.292Z"
   },
   {
    "duration": 12,
    "start_time": "2023-06-21T05:36:54.324Z"
   },
   {
    "duration": 163,
    "start_time": "2023-06-21T05:36:54.337Z"
   },
   {
    "duration": 129,
    "start_time": "2023-06-21T05:36:54.502Z"
   },
   {
    "duration": 53,
    "start_time": "2023-06-21T05:36:54.633Z"
   },
   {
    "duration": 304,
    "start_time": "2023-06-21T05:36:54.776Z"
   },
   {
    "duration": 3,
    "start_time": "2023-06-21T05:36:55.082Z"
   },
   {
    "duration": 25682,
    "start_time": "2023-06-21T05:36:55.087Z"
   },
   {
    "duration": 7,
    "start_time": "2023-06-21T05:37:20.770Z"
   },
   {
    "duration": 59,
    "start_time": "2023-06-21T05:37:20.779Z"
   },
   {
    "duration": 291,
    "start_time": "2023-06-21T05:37:20.840Z"
   },
   {
    "duration": 84,
    "start_time": "2023-06-21T05:37:21.133Z"
   },
   {
    "duration": 38503,
    "start_time": "2023-06-21T05:37:21.219Z"
   },
   {
    "duration": 3,
    "start_time": "2023-06-21T05:37:59.724Z"
   },
   {
    "duration": 20,
    "start_time": "2023-06-21T05:37:59.728Z"
   },
   {
    "duration": 14,
    "start_time": "2023-06-21T05:37:59.749Z"
   },
   {
    "duration": 15,
    "start_time": "2023-06-21T05:37:59.766Z"
   },
   {
    "duration": 25,
    "start_time": "2023-06-21T05:37:59.782Z"
   },
   {
    "duration": 23,
    "start_time": "2023-06-21T05:37:59.808Z"
   },
   {
    "duration": 20,
    "start_time": "2023-06-21T05:37:59.833Z"
   },
   {
    "duration": 123,
    "start_time": "2023-06-21T05:37:59.855Z"
   },
   {
    "duration": 21,
    "start_time": "2023-06-21T05:37:59.980Z"
   },
   {
    "duration": 157,
    "start_time": "2023-06-21T05:38:00.003Z"
   },
   {
    "duration": 69923,
    "start_time": "2023-06-21T05:43:11.536Z"
   },
   {
    "duration": 16,
    "start_time": "2023-06-21T05:44:48.453Z"
   },
   {
    "duration": 141,
    "start_time": "2023-06-21T05:44:53.134Z"
   },
   {
    "duration": 6,
    "start_time": "2023-06-21T05:54:23.072Z"
   },
   {
    "duration": 4,
    "start_time": "2023-06-21T05:54:30.808Z"
   },
   {
    "duration": 21,
    "start_time": "2023-06-21T05:55:35.596Z"
   },
   {
    "duration": 13,
    "start_time": "2023-06-21T05:56:53.540Z"
   },
   {
    "duration": 9,
    "start_time": "2023-06-21T05:57:54.441Z"
   },
   {
    "duration": 14,
    "start_time": "2023-06-21T05:59:35.207Z"
   },
   {
    "duration": 24,
    "start_time": "2023-06-21T07:45:52.509Z"
   },
   {
    "duration": 32,
    "start_time": "2023-06-21T07:46:44.323Z"
   },
   {
    "duration": 16,
    "start_time": "2023-06-21T07:46:49.364Z"
   },
   {
    "duration": 20,
    "start_time": "2023-06-21T07:47:11.467Z"
   },
   {
    "duration": 36,
    "start_time": "2023-06-21T07:47:13.848Z"
   },
   {
    "duration": 1630,
    "start_time": "2023-06-22T04:03:19.932Z"
   },
   {
    "duration": 10,
    "start_time": "2023-06-22T04:03:21.564Z"
   },
   {
    "duration": 137,
    "start_time": "2023-06-22T04:03:21.576Z"
   },
   {
    "duration": 34,
    "start_time": "2023-06-22T04:03:21.715Z"
   },
   {
    "duration": 644,
    "start_time": "2023-06-22T04:03:21.752Z"
   },
   {
    "duration": 24,
    "start_time": "2023-06-22T04:03:22.399Z"
   },
   {
    "duration": 9,
    "start_time": "2023-06-22T04:03:22.425Z"
   },
   {
    "duration": 16,
    "start_time": "2023-06-22T04:03:22.435Z"
   },
   {
    "duration": 12,
    "start_time": "2023-06-22T04:03:22.453Z"
   },
   {
    "duration": 4,
    "start_time": "2023-06-22T04:03:22.466Z"
   },
   {
    "duration": 17,
    "start_time": "2023-06-22T04:03:22.472Z"
   },
   {
    "duration": 30,
    "start_time": "2023-06-22T04:03:22.509Z"
   },
   {
    "duration": 9,
    "start_time": "2023-06-22T04:03:22.540Z"
   },
   {
    "duration": 3,
    "start_time": "2023-06-22T04:03:22.552Z"
   },
   {
    "duration": 15,
    "start_time": "2023-06-22T04:03:22.557Z"
   },
   {
    "duration": 13,
    "start_time": "2023-06-22T04:03:22.574Z"
   },
   {
    "duration": 37,
    "start_time": "2023-06-22T04:03:22.588Z"
   },
   {
    "duration": 124,
    "start_time": "2023-06-22T04:03:22.627Z"
   },
   {
    "duration": 62,
    "start_time": "2023-06-22T04:03:22.752Z"
   },
   {
    "duration": 395,
    "start_time": "2023-06-22T04:03:22.818Z"
   },
   {
    "duration": 2,
    "start_time": "2023-06-22T04:03:23.216Z"
   },
   {
    "duration": 50832,
    "start_time": "2023-06-22T04:03:23.220Z"
   },
   {
    "duration": 13,
    "start_time": "2023-06-22T04:04:14.053Z"
   },
   {
    "duration": 120,
    "start_time": "2023-06-22T04:04:14.068Z"
   },
   {
    "duration": 11,
    "start_time": "2023-06-22T04:04:14.190Z"
   },
   {
    "duration": 68681,
    "start_time": "2023-06-22T04:04:14.202Z"
   },
   {
    "duration": 0,
    "start_time": "2023-06-22T04:05:22.886Z"
   },
   {
    "duration": 0,
    "start_time": "2023-06-22T04:05:22.887Z"
   },
   {
    "duration": 0,
    "start_time": "2023-06-22T04:05:22.887Z"
   },
   {
    "duration": 1,
    "start_time": "2023-06-22T04:05:22.898Z"
   },
   {
    "duration": 0,
    "start_time": "2023-06-22T04:05:22.899Z"
   },
   {
    "duration": 0,
    "start_time": "2023-06-22T04:05:22.900Z"
   },
   {
    "duration": 0,
    "start_time": "2023-06-22T04:05:22.904Z"
   },
   {
    "duration": 0,
    "start_time": "2023-06-22T04:05:22.905Z"
   },
   {
    "duration": 1,
    "start_time": "2023-06-22T04:05:22.905Z"
   },
   {
    "duration": 0,
    "start_time": "2023-06-22T04:05:22.906Z"
   },
   {
    "duration": 0,
    "start_time": "2023-06-22T04:05:22.909Z"
   },
   {
    "duration": 0,
    "start_time": "2023-06-22T04:05:22.910Z"
   },
   {
    "duration": 0,
    "start_time": "2023-06-22T04:05:22.910Z"
   },
   {
    "duration": 0,
    "start_time": "2023-06-22T04:05:22.911Z"
   },
   {
    "duration": 0,
    "start_time": "2023-06-22T04:05:22.911Z"
   },
   {
    "duration": 0,
    "start_time": "2023-06-22T04:05:22.912Z"
   },
   {
    "duration": 0,
    "start_time": "2023-06-22T04:05:22.914Z"
   },
   {
    "duration": 0,
    "start_time": "2023-06-22T04:05:22.915Z"
   },
   {
    "duration": 0,
    "start_time": "2023-06-22T04:05:22.916Z"
   },
   {
    "duration": 0,
    "start_time": "2023-06-22T04:05:22.917Z"
   },
   {
    "duration": 0,
    "start_time": "2023-06-22T04:05:22.918Z"
   },
   {
    "duration": 0,
    "start_time": "2023-06-22T04:05:22.919Z"
   },
   {
    "duration": 0,
    "start_time": "2023-06-22T04:05:22.920Z"
   },
   {
    "duration": 0,
    "start_time": "2023-06-22T04:05:22.921Z"
   },
   {
    "duration": 0,
    "start_time": "2023-06-22T04:05:22.922Z"
   },
   {
    "duration": 0,
    "start_time": "2023-06-22T04:05:22.923Z"
   },
   {
    "duration": 0,
    "start_time": "2023-06-22T04:05:22.924Z"
   },
   {
    "duration": 0,
    "start_time": "2023-06-22T04:05:22.925Z"
   },
   {
    "duration": 0,
    "start_time": "2023-06-22T04:05:22.926Z"
   },
   {
    "duration": 0,
    "start_time": "2023-06-22T04:05:22.927Z"
   },
   {
    "duration": 0,
    "start_time": "2023-06-22T04:05:22.928Z"
   },
   {
    "duration": 0,
    "start_time": "2023-06-22T04:05:22.929Z"
   },
   {
    "duration": 0,
    "start_time": "2023-06-22T04:05:22.930Z"
   },
   {
    "duration": 0,
    "start_time": "2023-06-22T04:05:22.931Z"
   },
   {
    "duration": 0,
    "start_time": "2023-06-22T04:05:22.932Z"
   },
   {
    "duration": 0,
    "start_time": "2023-06-22T04:05:22.932Z"
   },
   {
    "duration": 0,
    "start_time": "2023-06-22T04:05:22.934Z"
   },
   {
    "duration": 0,
    "start_time": "2023-06-22T04:05:22.935Z"
   },
   {
    "duration": 0,
    "start_time": "2023-06-22T04:05:22.936Z"
   },
   {
    "duration": 0,
    "start_time": "2023-06-22T04:05:22.936Z"
   },
   {
    "duration": 0,
    "start_time": "2023-06-22T04:05:22.937Z"
   },
   {
    "duration": 0,
    "start_time": "2023-06-22T04:05:22.938Z"
   },
   {
    "duration": 4,
    "start_time": "2023-06-22T04:06:09.815Z"
   },
   {
    "duration": 9,
    "start_time": "2023-06-22T04:06:09.820Z"
   },
   {
    "duration": 55,
    "start_time": "2023-06-22T04:06:09.830Z"
   },
   {
    "duration": 23,
    "start_time": "2023-06-22T04:06:09.886Z"
   },
   {
    "duration": 487,
    "start_time": "2023-06-22T04:06:09.910Z"
   },
   {
    "duration": 16,
    "start_time": "2023-06-22T04:06:10.402Z"
   },
   {
    "duration": 5,
    "start_time": "2023-06-22T04:06:10.419Z"
   },
   {
    "duration": 11,
    "start_time": "2023-06-22T04:06:10.426Z"
   },
   {
    "duration": 35,
    "start_time": "2023-06-22T04:06:10.439Z"
   },
   {
    "duration": 5,
    "start_time": "2023-06-22T04:06:10.476Z"
   },
   {
    "duration": 35,
    "start_time": "2023-06-22T04:06:10.483Z"
   },
   {
    "duration": 7,
    "start_time": "2023-06-22T04:06:10.519Z"
   },
   {
    "duration": 14,
    "start_time": "2023-06-22T04:06:10.527Z"
   },
   {
    "duration": 4,
    "start_time": "2023-06-22T04:06:10.542Z"
   },
   {
    "duration": 13,
    "start_time": "2023-06-22T04:06:10.548Z"
   },
   {
    "duration": 6,
    "start_time": "2023-06-22T04:06:10.562Z"
   },
   {
    "duration": 22,
    "start_time": "2023-06-22T04:06:10.569Z"
   },
   {
    "duration": 98,
    "start_time": "2023-06-22T04:06:10.592Z"
   },
   {
    "duration": 123,
    "start_time": "2023-06-22T04:06:10.691Z"
   },
   {
    "duration": 274,
    "start_time": "2023-06-22T04:06:10.899Z"
   },
   {
    "duration": 2,
    "start_time": "2023-06-22T04:06:11.174Z"
   },
   {
    "duration": 50957,
    "start_time": "2023-06-22T04:06:11.177Z"
   },
   {
    "duration": 12,
    "start_time": "2023-06-22T04:07:02.136Z"
   },
   {
    "duration": 136,
    "start_time": "2023-06-22T04:07:02.150Z"
   },
   {
    "duration": 2,
    "start_time": "2023-06-22T04:07:02.288Z"
   },
   {
    "duration": 69402,
    "start_time": "2023-06-22T04:07:02.292Z"
   },
   {
    "duration": 23,
    "start_time": "2023-06-22T04:08:11.695Z"
   },
   {
    "duration": 134,
    "start_time": "2023-06-22T04:08:11.720Z"
   },
   {
    "duration": 9,
    "start_time": "2023-06-22T04:08:11.858Z"
   },
   {
    "duration": 136,
    "start_time": "2023-06-22T04:08:11.869Z"
   },
   {
    "duration": 85,
    "start_time": "2023-06-22T04:08:12.014Z"
   },
   {
    "duration": 303,
    "start_time": "2023-06-22T04:08:12.103Z"
   },
   {
    "duration": 68791,
    "start_time": "2023-06-22T04:08:12.408Z"
   },
   {
    "duration": 5,
    "start_time": "2023-06-22T04:09:21.217Z"
   },
   {
    "duration": 19,
    "start_time": "2023-06-22T04:09:21.224Z"
   },
   {
    "duration": 129,
    "start_time": "2023-06-22T04:09:21.244Z"
   },
   {
    "duration": 2,
    "start_time": "2023-06-22T04:09:21.375Z"
   },
   {
    "duration": 95561,
    "start_time": "2023-06-22T04:09:21.378Z"
   },
   {
    "duration": 2,
    "start_time": "2023-06-22T04:10:56.940Z"
   },
   {
    "duration": 8,
    "start_time": "2023-06-22T04:10:56.944Z"
   },
   {
    "duration": 8,
    "start_time": "2023-06-22T04:10:56.953Z"
   },
   {
    "duration": 15,
    "start_time": "2023-06-22T04:10:56.962Z"
   },
   {
    "duration": 9,
    "start_time": "2023-06-22T04:10:56.978Z"
   },
   {
    "duration": 54,
    "start_time": "2023-06-22T04:10:56.988Z"
   },
   {
    "duration": 9,
    "start_time": "2023-06-22T04:10:57.044Z"
   },
   {
    "duration": 117,
    "start_time": "2023-06-22T04:10:57.054Z"
   },
   {
    "duration": 93,
    "start_time": "2023-06-22T04:10:57.172Z"
   },
   {
    "duration": 44,
    "start_time": "2023-06-22T04:10:57.267Z"
   },
   {
    "duration": 384,
    "start_time": "2023-06-22T04:10:57.313Z"
   },
   {
    "duration": 2,
    "start_time": "2023-06-22T04:10:57.698Z"
   },
   {
    "duration": 25429,
    "start_time": "2023-06-22T04:10:57.702Z"
   },
   {
    "duration": 5,
    "start_time": "2023-06-22T04:11:23.133Z"
   },
   {
    "duration": 16,
    "start_time": "2023-06-22T04:11:23.139Z"
   },
   {
    "duration": 128,
    "start_time": "2023-06-22T04:11:23.157Z"
   },
   {
    "duration": 2,
    "start_time": "2023-06-22T04:11:23.287Z"
   },
   {
    "duration": 38908,
    "start_time": "2023-06-22T04:11:23.301Z"
   },
   {
    "duration": 3,
    "start_time": "2023-06-22T04:12:02.210Z"
   },
   {
    "duration": 3,
    "start_time": "2023-06-22T04:12:02.214Z"
   },
   {
    "duration": 160,
    "start_time": "2023-06-22T04:12:02.219Z"
   },
   {
    "duration": 17,
    "start_time": "2023-06-22T04:12:02.381Z"
   },
   {
    "duration": 43,
    "start_time": "2023-06-22T04:12:02.409Z"
   },
   {
    "duration": 17,
    "start_time": "2023-06-22T04:12:02.454Z"
   },
   {
    "duration": 35,
    "start_time": "2023-06-22T04:12:02.472Z"
   },
   {
    "duration": 151,
    "start_time": "2023-06-22T04:12:02.509Z"
   },
   {
    "duration": 17,
    "start_time": "2023-06-22T04:12:02.661Z"
   },
   {
    "duration": 169,
    "start_time": "2023-06-22T04:12:02.680Z"
   },
   {
    "duration": 4,
    "start_time": "2023-06-22T04:12:02.850Z"
   },
   {
    "duration": 28,
    "start_time": "2023-06-22T04:12:02.855Z"
   },
   {
    "duration": 7,
    "start_time": "2023-06-22T04:39:53.015Z"
   },
   {
    "duration": 5,
    "start_time": "2023-06-22T04:40:06.921Z"
   },
   {
    "duration": 9,
    "start_time": "2023-06-22T04:41:05.874Z"
   },
   {
    "duration": 10,
    "start_time": "2023-06-22T04:41:35.737Z"
   },
   {
    "duration": 9,
    "start_time": "2023-06-22T04:42:02.939Z"
   },
   {
    "duration": 9,
    "start_time": "2023-06-22T04:42:14.275Z"
   },
   {
    "duration": 17,
    "start_time": "2023-06-22T05:28:47.347Z"
   },
   {
    "duration": 10,
    "start_time": "2023-06-22T05:29:02.555Z"
   },
   {
    "duration": 7,
    "start_time": "2023-06-22T05:32:04.961Z"
   },
   {
    "duration": 11,
    "start_time": "2023-06-22T05:34:21.415Z"
   },
   {
    "duration": 4,
    "start_time": "2023-06-22T05:34:25.320Z"
   },
   {
    "duration": 10,
    "start_time": "2023-06-22T05:34:27.256Z"
   },
   {
    "duration": 11,
    "start_time": "2023-06-22T05:34:45.444Z"
   },
   {
    "duration": 12,
    "start_time": "2023-06-22T05:34:58.144Z"
   },
   {
    "duration": 12,
    "start_time": "2023-06-22T05:35:26.719Z"
   },
   {
    "duration": 12,
    "start_time": "2023-06-22T05:35:29.590Z"
   },
   {
    "duration": 14,
    "start_time": "2023-06-22T05:35:40.845Z"
   },
   {
    "duration": 19,
    "start_time": "2023-06-22T05:35:42.247Z"
   },
   {
    "duration": 17,
    "start_time": "2023-06-22T05:35:43.070Z"
   },
   {
    "duration": 13,
    "start_time": "2023-06-22T05:35:43.557Z"
   },
   {
    "duration": 11,
    "start_time": "2023-06-22T05:35:43.982Z"
   },
   {
    "duration": 13,
    "start_time": "2023-06-22T05:35:44.445Z"
   },
   {
    "duration": 11,
    "start_time": "2023-06-22T05:35:44.882Z"
   },
   {
    "duration": 12,
    "start_time": "2023-06-22T05:35:47.458Z"
   },
   {
    "duration": 20,
    "start_time": "2023-06-22T05:35:47.896Z"
   },
   {
    "duration": 12,
    "start_time": "2023-06-22T05:35:48.356Z"
   },
   {
    "duration": 13,
    "start_time": "2023-06-22T05:35:48.819Z"
   },
   {
    "duration": 13,
    "start_time": "2023-06-22T05:35:49.295Z"
   },
   {
    "duration": 12,
    "start_time": "2023-06-22T05:35:49.782Z"
   },
   {
    "duration": 22,
    "start_time": "2023-06-22T05:35:50.295Z"
   },
   {
    "duration": 20,
    "start_time": "2023-06-22T05:35:57.560Z"
   },
   {
    "duration": 17,
    "start_time": "2023-06-22T05:35:59.032Z"
   },
   {
    "duration": 4,
    "start_time": "2023-06-22T05:40:40.880Z"
   },
   {
    "duration": 1360,
    "start_time": "2023-06-22T05:40:40.912Z"
   },
   {
    "duration": 943,
    "start_time": "2023-06-22T05:40:42.274Z"
   },
   {
    "duration": 273,
    "start_time": "2023-06-22T05:40:43.219Z"
   },
   {
    "duration": 1473,
    "start_time": "2023-06-22T05:40:43.495Z"
   },
   {
    "duration": 292,
    "start_time": "2023-06-22T05:40:44.970Z"
   },
   {
    "duration": 228,
    "start_time": "2023-06-22T05:40:45.263Z"
   },
   {
    "duration": 28,
    "start_time": "2023-06-22T05:40:45.493Z"
   },
   {
    "duration": 22,
    "start_time": "2023-06-22T05:40:45.524Z"
   },
   {
    "duration": 18,
    "start_time": "2023-06-22T05:40:45.548Z"
   },
   {
    "duration": 6,
    "start_time": "2023-06-22T05:40:45.569Z"
   },
   {
    "duration": 9,
    "start_time": "2023-06-22T05:40:45.576Z"
   },
   {
    "duration": 15,
    "start_time": "2023-06-22T05:40:45.587Z"
   },
   {
    "duration": 22,
    "start_time": "2023-06-22T05:40:45.603Z"
   },
   {
    "duration": 14,
    "start_time": "2023-06-22T05:40:45.628Z"
   },
   {
    "duration": 5,
    "start_time": "2023-06-22T05:40:45.643Z"
   },
   {
    "duration": 26,
    "start_time": "2023-06-22T05:40:45.650Z"
   },
   {
    "duration": 106,
    "start_time": "2023-06-22T05:40:45.678Z"
   },
   {
    "duration": 122,
    "start_time": "2023-06-22T05:40:45.786Z"
   },
   {
    "duration": 408,
    "start_time": "2023-06-22T05:40:45.909Z"
   },
   {
    "duration": 52749,
    "start_time": "2023-06-22T05:40:46.318Z"
   },
   {
    "duration": 12,
    "start_time": "2023-06-22T05:41:39.068Z"
   },
   {
    "duration": 150,
    "start_time": "2023-06-22T05:41:39.082Z"
   },
   {
    "duration": 72559,
    "start_time": "2023-06-22T05:41:39.233Z"
   },
   {
    "duration": 24,
    "start_time": "2023-06-22T05:42:51.794Z"
   },
   {
    "duration": 119,
    "start_time": "2023-06-22T05:42:51.820Z"
   },
   {
    "duration": 8,
    "start_time": "2023-06-22T05:42:51.941Z"
   },
   {
    "duration": 109,
    "start_time": "2023-06-22T05:42:51.951Z"
   },
   {
    "duration": 145,
    "start_time": "2023-06-22T05:42:52.063Z"
   },
   {
    "duration": 314,
    "start_time": "2023-06-22T05:42:52.210Z"
   },
   {
    "duration": 70466,
    "start_time": "2023-06-22T05:42:52.525Z"
   },
   {
    "duration": 26,
    "start_time": "2023-06-22T05:44:02.993Z"
   },
   {
    "duration": 34,
    "start_time": "2023-06-22T05:44:03.021Z"
   },
   {
    "duration": 117,
    "start_time": "2023-06-22T05:44:03.057Z"
   },
   {
    "duration": 3,
    "start_time": "2023-06-22T05:44:03.175Z"
   },
   {
    "duration": 95666,
    "start_time": "2023-06-22T05:44:03.179Z"
   },
   {
    "duration": 12,
    "start_time": "2023-06-22T05:45:38.847Z"
   },
   {
    "duration": 10,
    "start_time": "2023-06-22T05:45:38.860Z"
   },
   {
    "duration": 145,
    "start_time": "2023-06-22T05:45:38.872Z"
   },
   {
    "duration": 100,
    "start_time": "2023-06-22T05:45:39.019Z"
   },
   {
    "duration": 180,
    "start_time": "2023-06-22T05:45:39.121Z"
   },
   {
    "duration": 370,
    "start_time": "2023-06-22T05:45:39.302Z"
   },
   {
    "duration": 25583,
    "start_time": "2023-06-22T05:45:39.673Z"
   },
   {
    "duration": 5,
    "start_time": "2023-06-22T05:46:05.258Z"
   },
   {
    "duration": 22,
    "start_time": "2023-06-22T05:46:05.264Z"
   },
   {
    "duration": 150,
    "start_time": "2023-06-22T05:46:05.287Z"
   },
   {
    "duration": 38471,
    "start_time": "2023-06-22T05:46:05.439Z"
   },
   {
    "duration": 7,
    "start_time": "2023-06-22T05:46:43.912Z"
   },
   {
    "duration": 12,
    "start_time": "2023-06-22T05:46:43.920Z"
   },
   {
    "duration": 122,
    "start_time": "2023-06-22T05:46:43.934Z"
   },
   {
    "duration": 17,
    "start_time": "2023-06-22T05:46:44.058Z"
   },
   {
    "duration": 146,
    "start_time": "2023-06-22T05:46:44.076Z"
   },
   {
    "duration": 13,
    "start_time": "2023-06-22T05:46:44.224Z"
   },
   {
    "duration": 21,
    "start_time": "2023-06-22T05:46:44.239Z"
   }
  ],
  "kernelspec": {
   "display_name": "Python 3 (ipykernel)",
   "language": "python",
   "name": "python3"
  },
  "language_info": {
   "codemirror_mode": {
    "name": "ipython",
    "version": 3
   },
   "file_extension": ".py",
   "mimetype": "text/x-python",
   "name": "python",
   "nbconvert_exporter": "python",
   "pygments_lexer": "ipython3",
   "version": "3.9.16"
  },
  "toc": {
   "base_numbering": 1,
   "nav_menu": {},
   "number_sections": true,
   "sideBar": true,
   "skip_h1_title": true,
   "title_cell": "Содержание",
   "title_sidebar": "Contents",
   "toc_cell": true,
   "toc_position": {},
   "toc_section_display": true,
   "toc_window_display": false
  }
 },
 "nbformat": 4,
 "nbformat_minor": 2
}
